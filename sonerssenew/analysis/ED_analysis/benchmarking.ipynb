{
 "cells": [
  {
   "cell_type": "markdown",
   "id": "07887858",
   "metadata": {},
   "source": [
    "# s = 1/2, Bilayer model, 4 x 4 x 2 lattice."
   ]
  },
  {
   "cell_type": "code",
   "execution_count": 2,
   "id": "a33a0b04",
   "metadata": {},
   "outputs": [
    {
     "data": {
      "text/html": [
       "<style>.container { width:100% !important; }</style>"
      ],
      "text/plain": [
       "<IPython.core.display.HTML object>"
      ]
     },
     "metadata": {},
     "output_type": "display_data"
    }
   ],
   "source": [
    "from IPython.display import display, HTML\n",
    "display(HTML(\"<style>.container { width:100% !important; }</style>\"))"
   ]
  },
  {
   "cell_type": "markdown",
   "id": "2d52d55a",
   "metadata": {},
   "source": [
    "# Import modules (Mandatory Run)"
   ]
  },
  {
   "cell_type": "code",
   "execution_count": 1,
   "id": "74e65834",
   "metadata": {},
   "outputs": [],
   "source": [
    "import exact_diagonalzation_RSSE_H_3spin as edb\n",
    "import numpy as np\n",
    "import importlib\n",
    "import itertools as it"
   ]
  },
  {
   "cell_type": "markdown",
   "id": "7e3b88cc",
   "metadata": {},
   "source": [
    "## ($J_H, J_3, Beta$)"
   ]
  },
  {
   "cell_type": "markdown",
   "id": "e4007042",
   "metadata": {},
   "source": [
    "## (a) (1.0, 0.5, 20.)"
   ]
  },
  {
   "cell_type": "code",
   "execution_count": 20,
   "id": "a9006a9a",
   "metadata": {},
   "outputs": [
    {
     "name": "stdout",
     "output_type": "stream",
     "text": [
      "Hamiltonian Built -> success!\n",
      "Diagonalization -> success!\n"
     ]
    }
   ],
   "source": [
    "importlib.reload(edb)\n",
    "Lx = 4\n",
    "Ly = 2\n",
    "L = Lx*Ly\n",
    "\n",
    "n = 30\n",
    "sparse = True\n",
    "\n",
    "JH = 1.\n",
    "J3 = 0.5\n",
    "beta = 20\n",
    "########################################\n",
    "basis_list = list(it.product([-1,0,1], repeat=L))\n",
    "Hbonds, threeS_Spinbnds, threeS_Hbnds, threeS_NNHbnds = edb.gen_bonds(Lx, Ly)\n",
    "Wsp, Vsp = edb.Heisenberg_threeSpin_ED(Lx, Ly, JH, J3, Hbonds, threeS_Spinbnds, threeS_Hbnds, threeS_NNHbnds, n, sparse)  "
   ]
  },
  {
   "cell_type": "code",
   "execution_count": 21,
   "id": "55431125",
   "metadata": {},
   "outputs": [
    {
     "name": "stdout",
     "output_type": "stream",
     "text": [
      "                     Values\n",
      "Lx             4.0000000000\n",
      "Ly             2.0000000000\n",
      "beta          20.0000000000\n",
      "J_H            1.0000000000\n",
      "J3             0.5000000000\n",
      "enrg          -4.0289537909\n",
      "enrg2         16.2324740119\n",
      "enrg4        263.4935610406\n",
      "SMag_square    0.0008085684\n",
      "SMag_four      0.0000408850\n"
     ]
    }
   ],
   "source": [
    "import pandas as pd\n",
    "pd.set_option('display.precision', 10)\n",
    "\n",
    "importlib.reload(edb)\n",
    "df = edb.estimate_all_observables(Lx, Ly, JH, J3, Wsp, Vsp, n, beta)\n",
    "print(df)"
   ]
  },
  {
   "cell_type": "markdown",
   "id": "b89be493",
   "metadata": {},
   "source": [
    "## (b)  (1.,0.,1.)"
   ]
  },
  {
   "cell_type": "code",
   "execution_count": 72,
   "id": "1674a7d4",
   "metadata": {},
   "outputs": [
    {
     "name": "stdout",
     "output_type": "stream",
     "text": [
      "Hamiltonian Built -> success!\n",
      "Diagonalization -> success!\n"
     ]
    }
   ],
   "source": [
    "importlib.reload(edb)\n",
    "Lx = 4\n",
    "Ly = 1\n",
    "L = Lx*Ly\n",
    "\n",
    "n = 80\n",
    "\n",
    "sparse = True\n",
    "\n",
    "JH = 1.\n",
    "J3 = 0.\n",
    "########################################\n",
    "basis_list = list(it.product([-1,0,1], repeat=L))\n",
    "Hbonds, threeS_Spinbnds, threeS_Hbnds, threeS_NNHbnds = edb.gen_bonds(Lx, Ly)\n",
    "Wsp, Vsp = edb.Heisenberg_threeSpin_ED(Lx, Ly, JH, J3, Hbonds, threeS_Spinbnds, threeS_Hbnds, threeS_NNHbnds, n, sparse)  "
   ]
  },
  {
   "cell_type": "code",
   "execution_count": 73,
   "id": "36c5999c",
   "metadata": {},
   "outputs": [
    {
     "name": "stdout",
     "output_type": "stream",
     "text": [
      "                    Values\n",
      "Lx            4.0000000000\n",
      "Ly            1.0000000000\n",
      "beta          1.0000000000\n",
      "J_H           1.0000000000\n",
      "J3            0.0000000000\n",
      "enrg         -2.1737888583\n",
      "enrg2         4.8670012097\n",
      "enrg4        25.7762476522\n",
      "SMag_square   0.0072595931\n",
      "SMag_four     0.0009052840\n"
     ]
    }
   ],
   "source": [
    "importlib.reload(edb)\n",
    "\n",
    "beta = 1\n",
    "df = edb.estimate_all_observables(Lx, Ly, JH, J3, Wsp, Vsp, n, beta)\n",
    "print(df)"
   ]
  },
  {
   "cell_type": "markdown",
   "id": "114ff83a",
   "metadata": {},
   "source": [
    "## (c) (0.6, 0.5, 0.5, 0.)"
   ]
  },
  {
   "cell_type": "code",
   "execution_count": 105,
   "id": "f9349cdd",
   "metadata": {},
   "outputs": [
    {
     "name": "stdout",
     "output_type": "stream",
     "text": [
      "Hamiltonian Built -> success!\n",
      "Diagonalization -> success!\n"
     ]
    }
   ],
   "source": [
    "importlib.reload(edb)\n",
    "Lx = 4\n",
    "Ly = 2\n",
    "Nl = 2\n",
    "L = Lx*Ly*Nl\n",
    "\n",
    "n = 30\n",
    "sparse = True\n",
    "\n",
    "JH = 0.6\n",
    "JQ = 0.5\n",
    "JB = 0.5\n",
    "lmbda = 0.\n",
    "beta = 20\n",
    "########################################\n",
    "basis_list = list(it.product([-1,1], repeat=L))\n",
    "Hbnds, Bplqs, QQplqs, Hsgn, Bsgn, QQsgn = edb.gen_bonds(Lx, Ly, lmbda)\n",
    "Wsp, Vsp = edb.Bilayer_JH_Bi_QQ_ED(Lx, Ly, Nl, JH, JB, JQ, Hbnds, Bplqs, QQplqs, Hsgn, Bsgn, QQsgn, n, sparse)  "
   ]
  },
  {
   "cell_type": "code",
   "execution_count": 106,
   "id": "b3bfd273",
   "metadata": {},
   "outputs": [
    {
     "name": "stdout",
     "output_type": "stream",
     "text": [
      "                       Values\n",
      "Lx               4.0000000000\n",
      "Ly               2.0000000000\n",
      "beta            20.0000000000\n",
      "J_H              0.6000000000\n",
      "J_QQ             0.5000000000\n",
      "J_B              0.5000000000\n",
      "lambda           0.0000000000\n",
      "enrg            -2.4157474917\n",
      "enrg2            5.8358359438\n",
      "enrg4           34.0569811630\n",
      "SMag_square_L1   0.0187201616\n",
      "SMag_square_L2   0.0187201616\n",
      "SMag_four_L1     0.0008111012\n",
      "SMag_four_L2     0.0008111012\n",
      "O_N_L1           0.0748806464\n",
      "O_N_L2           0.0748806464\n",
      "R_N_L1           0.4088035261\n",
      "R_N_L2           0.4088035261\n",
      "O_V_L1           0.0568179654\n",
      "O_V_L2           0.0568179654\n",
      "R_V_L1           0.4848811987\n",
      "R_V_L2           0.4848811987\n",
      "O_B_L1           0.1322091087\n",
      "O_B_L2           0.0661711795\n",
      "R_B_L1           0.4853118221\n",
      "R_B_L2           0.4719985710\n"
     ]
    }
   ],
   "source": [
    "importlib.reload(edb)\n",
    "df = edb.estimate_all_observables(Lx, Ly, Nl, JH, JQ, JB, lmbda, Wsp, Vsp, Hbnds, Bplqs, n, beta, True)\n",
    "print(df)"
   ]
  },
  {
   "cell_type": "markdown",
   "id": "336494fb",
   "metadata": {},
   "source": [
    "## (d) (0.3, 0.8, 0.2, 0.73)"
   ]
  },
  {
   "cell_type": "code",
   "execution_count": 103,
   "id": "8ec0adce",
   "metadata": {},
   "outputs": [
    {
     "name": "stdout",
     "output_type": "stream",
     "text": [
      "Hamiltonian Built -> success!\n",
      "Diagonalization -> success!\n"
     ]
    }
   ],
   "source": [
    "importlib.reload(edb)\n",
    "Lx = 4\n",
    "Ly = 2\n",
    "Nl = 2\n",
    "L = Lx*Ly*Nl\n",
    "\n",
    "n = 30\n",
    "sparse = True\n",
    "\n",
    "JH = 0.3\n",
    "JQ = 0.8\n",
    "JB = 0.2\n",
    "lmbda = 0.73\n",
    "beta = 20\n",
    "########################################\n",
    "basis_list = list(it.product([-1,1], repeat=L))\n",
    "Hbnds, Bplqs, QQplqs, Hsgn, Bsgn, QQsgn = edb.gen_bonds(Lx, Ly, lmbda)\n",
    "Wsp, Vsp = edb.Bilayer_JH_Bi_QQ_ED(Lx, Ly, Nl, JH, JB, JQ, Hbnds, Bplqs, QQplqs, Hsgn, Bsgn, QQsgn, n, sparse)  "
   ]
  },
  {
   "cell_type": "code",
   "execution_count": 104,
   "id": "ef6973d8",
   "metadata": {},
   "outputs": [
    {
     "name": "stdout",
     "output_type": "stream",
     "text": [
      "                        Values\n",
      "Lx                4.0000000000\n",
      "Ly                2.0000000000\n",
      "beta             20.0000000000\n",
      "J_H               0.3000000000\n",
      "J_QQ              0.8000000000\n",
      "J_B               0.2000000000\n",
      "lambda            0.7300000000\n",
      "enrg             -4.0004358161\n",
      "enrg2            16.0034867186\n",
      "enrg4           256.1115871533\n",
      "SMag_square_L1    0.0162551382\n",
      "SMag_square_L2    0.0162551382\n",
      "SMag_four_L1      0.0006317734\n",
      "SMag_four_L2      0.0006317734\n",
      "O_N_L1            0.0650205527\n",
      "O_N_L2            0.0650205527\n",
      "R_N_L1            0.3634210486\n",
      "R_N_L2            0.3634210486\n",
      "O_V_L1            0.0448571818\n",
      "O_V_L2            0.0448571818\n",
      "R_V_L1            0.3757004121\n",
      "R_V_L2            0.3757004121\n",
      "O_B_L1            0.1253093280\n",
      "O_B_L2            0.1116422721\n",
      "R_B_L1            0.4210905872\n",
      "R_B_L2            0.4054232057\n"
     ]
    }
   ],
   "source": [
    "importlib.reload(edb)\n",
    "df = edb.estimate_all_observables(Lx, Ly, Nl, JH, JQ, JB, lmbda, Wsp, Vsp, Hbnds, Bplqs, n, beta, True)\n",
    "print(df)"
   ]
  },
  {
   "cell_type": "markdown",
   "id": "181a8d5c",
   "metadata": {},
   "source": [
    "# (e) (1.15, 0.88, 0.12, 0.4)"
   ]
  },
  {
   "cell_type": "code",
   "execution_count": 97,
   "id": "3f327630",
   "metadata": {},
   "outputs": [
    {
     "name": "stdout",
     "output_type": "stream",
     "text": [
      "Hamiltonian Built -> success!\n",
      "Diagonalization -> success!\n"
     ]
    }
   ],
   "source": [
    "importlib.reload(edb)\n",
    "Lx = 4\n",
    "Ly = 2\n",
    "Nl = 2\n",
    "L = Lx*Ly*Nl\n",
    "\n",
    "n = 30\n",
    "sparse = True\n",
    "\n",
    "JH = 1.15\n",
    "JQ = 0.88\n",
    "JB = 0.12\n",
    "lmbda = 0.4\n",
    "beta = 20\n",
    "########################################\n",
    "basis_list = list(it.product([-1,1], repeat=L))\n",
    "Hbnds, Bplqs, QQplqs, Hsgn, Bsgn, QQsgn = edb.gen_bonds(Lx, Ly, lmbda)\n",
    "Wsp, Vsp = edb.Bilayer_JH_Bi_QQ_ED(Lx, Ly, Nl, JH, JB, JQ, Hbnds, Bplqs, QQplqs, Hsgn, Bsgn, QQsgn, n, sparse)  "
   ]
  },
  {
   "cell_type": "code",
   "execution_count": 102,
   "id": "353e9d10",
   "metadata": {},
   "outputs": [
    {
     "name": "stdout",
     "output_type": "stream",
     "text": [
      "                        Values\n",
      "Lx                4.0000000000\n",
      "Ly                2.0000000000\n",
      "beta             20.0000000000\n",
      "J_H               1.1500000000\n",
      "J_QQ              0.8800000000\n",
      "J_B               0.1200000000\n",
      "lambda            0.4000000000\n",
      "enrg             -4.4573111868\n",
      "enrg2            19.8676230160\n",
      "enrg4           394.7224443067\n",
      "SMag_square_L1    0.0183051967\n",
      "SMag_square_L2    0.0183051967\n",
      "SMag_four_L1      0.0007756938\n",
      "SMag_four_L2      0.0007756938\n",
      "O_N_L1            0.0732207869\n",
      "O_N_L2            0.0732207869\n",
      "R_N_L1            0.4097882147\n",
      "R_N_L2            0.4097882147\n",
      "O_V_L1            0.0531554564\n",
      "O_V_L2            0.0531554564\n",
      "R_V_L1            0.4459921390\n",
      "R_V_L2            0.4459921390\n",
      "O_B_L1            0.1306604790\n",
      "O_B_L2            0.0934056010\n",
      "R_B_L1            0.4534352833\n",
      "R_B_L2            0.4204539383\n"
     ]
    }
   ],
   "source": [
    "importlib.reload(edb)\n",
    "df = edb.estimate_all_observables(Lx, Ly, Nl, JH, JQ, JB, lmbda, Wsp, Vsp, Hbnds, Bplqs, n, beta, True)\n",
    "print(df)"
   ]
  },
  {
   "cell_type": "code",
   "execution_count": 49,
   "id": "85a7aafb",
   "metadata": {},
   "outputs": [
    {
     "data": {
      "text/plain": [
       "-2.0732545"
      ]
     },
     "execution_count": 49,
     "metadata": {},
     "output_type": "execute_result"
    }
   ],
   "source": [
    "-4.146509/2"
   ]
  },
  {
   "cell_type": "code",
   "execution_count": 66,
   "id": "fcd65cbb",
   "metadata": {},
   "outputs": [
    {
     "data": {
      "text/plain": [
       "2.545402166"
      ]
     },
     "execution_count": 66,
     "metadata": {},
     "output_type": "execute_result"
    }
   ],
   "source": [
    "0.6363505415*4"
   ]
  },
  {
   "cell_type": "code",
   "execution_count": null,
   "id": "af4b0a64",
   "metadata": {},
   "outputs": [],
   "source": []
  }
 ],
 "metadata": {
  "kernelspec": {
   "display_name": "Python 3 (ipykernel)",
   "language": "python",
   "name": "python3"
  },
  "language_info": {
   "codemirror_mode": {
    "name": "ipython",
    "version": 3
   },
   "file_extension": ".py",
   "mimetype": "text/x-python",
   "name": "python",
   "nbconvert_exporter": "python",
   "pygments_lexer": "ipython3",
   "version": "3.10.12"
  }
 },
 "nbformat": 4,
 "nbformat_minor": 5
}
