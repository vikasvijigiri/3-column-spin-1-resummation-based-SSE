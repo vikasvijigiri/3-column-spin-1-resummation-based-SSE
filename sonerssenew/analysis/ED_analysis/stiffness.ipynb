{
 "cells": [
  {
   "cell_type": "markdown",
   "id": "5b54f76b",
   "metadata": {},
   "source": [
    "# Widen display (Convenience)"
   ]
  },
  {
   "cell_type": "code",
   "execution_count": 1,
   "id": "c4eb7e26",
   "metadata": {},
   "outputs": [
    {
     "data": {
      "text/html": [
       "<style>.container { width:100% !important; }</style>"
      ],
      "text/plain": [
       "<IPython.core.display.HTML object>"
      ]
     },
     "metadata": {},
     "output_type": "display_data"
    }
   ],
   "source": [
    "from IPython.display import display, HTML\n",
    "display(HTML(\"<style>.container { width:100% !important; }</style>\"))"
   ]
  },
  {
   "cell_type": "markdown",
   "id": "cf5c1a4f",
   "metadata": {},
   "source": [
    "# Method 1: Hamiltonian filling in $S^z$ basis"
   ]
  },
  {
   "cell_type": "code",
   "execution_count": 56,
   "id": "2569c356",
   "metadata": {},
   "outputs": [],
   "source": [
    "import numpy as np\n",
    "from   scipy.sparse import csr_matrix\n",
    "import scipy as sp\n",
    "from   scipy.sparse.linalg import eigsh\n",
    "import itertools as it\n",
    "from scipy.optimize import curve_fit\n",
    "\n",
    "\n",
    "\n",
    "def basis_no(i, L):\n",
    "    return sum((2**j) * ((i[j] + 1) // 2) for j in range(L))\n",
    "\n",
    "\n",
    "def action(ii, Hbond, theta, bnd):\n",
    "    i, j = Hbond\n",
    "    state_list = []\n",
    "    coef_list = []\n",
    "    \n",
    "    # Heisenberg AFM only model\n",
    "    # diagonal\n",
    "    de = 0.25 * ((ii[i] * ii[j])-1)\n",
    "    if abs(de) > 1e-6:\n",
    "        coef_list.append(de)\n",
    "        state_list.append(ii)\n",
    "\n",
    "    # off-diagonal\n",
    "    if (ii[i]*ii[j] == -1):\n",
    "        jj = list(ii)\n",
    "        jj[i] = -ii[i] # flip site i\n",
    "        jj[j] = -ii[j] # flip site j\n",
    "        jj = tuple(jj)\n",
    "        if bnd: coef_list.append(0.5  * np.cos(theta))\n",
    "        else: coef_list.append(0.5)\n",
    "        #coef_list.append(0.5)\n",
    "        state_list.append(jj)\n",
    "\n",
    "    return state_list, coef_list   \n",
    "\n",
    "\n",
    "\n",
    "# Spin-1/2\n",
    "def Bilayer_Bi_QQ_JH(Lx, Ly, JH, theta, xbonds, ybonds):\n",
    "\n",
    "    L = Lx*Ly\n",
    "    data = []\n",
    "    rows = []\n",
    "    cols = []\n",
    "\n",
    "    for ii in it.product([-1, 1], repeat=L): \n",
    "\n",
    "        # Heisenberg interactions\n",
    "        if abs(JH) > 1e-6:\n",
    "            for bond in xbonds:\n",
    "                state_list, coef_list = action(ii, bond, theta, True)\n",
    "                for jc, jj in enumerate(state_list):\n",
    "                    data.append(JH * coef_list[jc])\n",
    "                    rows.append(basis_no(ii, L))\n",
    "                    cols.append(basis_no(jj, L)) \n",
    "                    \n",
    "        # Heisenberg interactions\n",
    "        if abs(JH) > 1e-6:\n",
    "            for bond in ybonds:\n",
    "                state_list, coef_list = action(ii, bond, theta, False)\n",
    "                for jc, jj in enumerate(state_list):\n",
    "                    data.append(JH * coef_list[jc])\n",
    "                    rows.append(basis_no(ii, L))\n",
    "                    cols.append(basis_no(jj, L))                     \n",
    "\n",
    "    Hsp = csr_matrix((data, (rows, cols)), shape=(2**L, 2**L), dtype=np.float64)     \n",
    "    return Hsp \n",
    "\n",
    "\n",
    "\n",
    "def bond_list(Lx, Ly):\n",
    "    xbondlist = []\n",
    "    ybondlist = []\n",
    "    for i in range(0,Lx*Ly):\n",
    "        x = i // Lx\n",
    "        xbondlist.append([i, Lx*x+(i+1)%Lx])\n",
    "        if Ly > 1: ybondlist.append([i, (i+Lx)%(Lx*Ly)])           \n",
    "    return xbondlist, ybondlist "
   ]
  },
  {
   "cell_type": "code",
   "execution_count": 57,
   "id": "24641b40",
   "metadata": {},
   "outputs": [],
   "source": [
    "def twist_function(theta, a, b):\n",
    "    return a * theta**2 + b\n",
    "\n",
    "def calculate_spin_stiffness(theta_values, energy_values):\n",
    "    # Numerical differentiation to estimate the second derivative\n",
    "    dtheta = theta_values[1] - theta_values[0]\n",
    "    # Fit the energy/free energy curve to a quadratic form\n",
    "    popt, pconv = curve_fit(twist_function, theta_values, energy_values, p0=(0.5, -3.0))\n",
    "    \n",
    "    # The coefficient of the quadratic term is the spin stiffness\n",
    "    rho_s = popt[0] / 2.0\n",
    "    rho_s_err = pconv[0][0]\n",
    "    return rho_s, rho_s_err"
   ]
  },
  {
   "cell_type": "markdown",
   "id": "e0fbf799",
   "metadata": {},
   "source": [
    "## 4 site chain"
   ]
  },
  {
   "cell_type": "code",
   "execution_count": 71,
   "id": "f4969a16",
   "metadata": {},
   "outputs": [
    {
     "name": "stdout",
     "output_type": "stream",
     "text": [
      " Beta | energy | rho  =   40 | -0.74999999999999988583 | 0.08313413173190763\n"
     ]
    },
    {
     "data": {
      "image/png": "[encoded data removed]",
      "text/plain": [
       "<Figure size 432x288 with 1 Axes>"
      ]
     },
     "metadata": {
      "needs_background": "light"
     },
     "output_type": "display_data"
    }
   ],
   "source": [
    "import matplotlib.pyplot as plt\n",
    "\n",
    "Lx = 4\n",
    "Ly = 1\n",
    "JH = 1.\n",
    "beta = 40\n",
    "\n",
    "\n",
    "xbonds, ybonds = bond_list(Lx, Ly)           # 2D PBC lattice\n",
    "\n",
    "#print(xbonds, ybonds)\n",
    "\n",
    "twist_angles = np.linspace(0, np.pi/20, 50)\n",
    "\n",
    "elist = [];\n",
    "zlist = [];\n",
    "Flist = [];\n",
    "for twist in twist_angles:\n",
    "    H = Bilayer_Bi_QQ_JH(Lx, Ly, JH, twist, xbonds, ybonds)#.toarray()\n",
    "    W = eigsh(H, k=15, which='SA',return_eigenvectors=False)\n",
    "    z = np.sum(np.exp(-np.float128(beta * W)))\n",
    "    e = np.sum(W*np.exp(-np.float128(beta * W)))/z\n",
    "    f = -np.log(z)/beta \n",
    "    elist.append(e)\n",
    "    zlist.append(z)\n",
    "    Flist.append(f)\n",
    "\n",
    "    \n",
    "plt.plot(twist_angles, Flist)\n",
    "rho, rho_err = calculate_spin_stiffness(twist_angles,Flist)\n",
    "#rho = (Flist[1] - Flist[0])/(twist_angles[1]-twist_angles[0])**2/Lx/2    #for i, twist in enumerate(twist_angles):    \n",
    "print(\" Beta | energy | rho  =  \", beta, \"|\", elist[0]/Lx/Ly, \"|\", rho/Lx/Ly)"
   ]
  },
  {
   "cell_type": "markdown",
   "id": "4ad50945",
   "metadata": {},
   "source": [
    "## 4x2 lattice"
   ]
  },
  {
   "cell_type": "code",
   "execution_count": 72,
   "id": "4d2216e7",
   "metadata": {},
   "outputs": [
    {
     "name": "stdout",
     "output_type": "stream",
     "text": [
      " Beta | energy | rho  =   30 | -1.3667915636316974031 | 0.039981987470267995\n"
     ]
    },
    {
     "data": {
      "image/png": "[encoded data removed]",
      "text/plain": [
       "<Figure size 432x288 with 1 Axes>"
      ]
     },
     "metadata": {
      "needs_background": "light"
     },
     "output_type": "display_data"
    }
   ],
   "source": [
    "from scipy.optimize import curve_fit\n",
    "import matplotlib.pyplot as plt\n",
    "\n",
    "Lx = 4\n",
    "Ly = 2\n",
    "JH = 1.\n",
    "beta = 30\n",
    "\n",
    "\n",
    "xbonds, ybonds = bond_list(Lx, Ly)           # 2D PBC lattice\n",
    "\n",
    "#print(xbonds, ybonds)\n",
    "\n",
    "twist_angles = np.linspace(0, np.pi/10, 50)\n",
    "\n",
    "elist = [];\n",
    "zlist = [];\n",
    "Flist = [];\n",
    "for twist in twist_angles:\n",
    "    H = Bilayer_Bi_QQ_JH(Lx, Ly, JH, twist, xbonds, ybonds)#.toarray()\n",
    "    W = eigsh(H, k=15, which='SA',return_eigenvectors=False)\n",
    "    z = np.sum(np.exp(-np.float128(beta * W)))\n",
    "    e = np.sum(W*np.exp(-np.float128(beta * W)))/z\n",
    "    f = -np.log(z)/beta\n",
    "    elist.append(e)\n",
    "    zlist.append(z)\n",
    "    Flist.append(f)\n",
    "\n",
    "    \n",
    "plt.plot(twist_angles, Flist)\n",
    "rho, rho_err = calculate_spin_stiffness(twist_angles,Flist)\n",
    "#rho = (Flist[1] - Flist[0])/(twist_angles[1]-twist_angles[0])**2/Lx/2    #for i, twist in enumerate(twist_angles):    \n",
    "print(\" Beta | energy | rho  =  \", beta, \"|\", elist[0]/Lx/Ly, \"|\", rho/Lx/Ly)"
   ]
  },
  {
   "cell_type": "markdown",
   "id": "60e0f571",
   "metadata": {},
   "source": [
    "# Method 2: Tensor products of spins"
   ]
  },
  {
   "cell_type": "markdown",
   "id": "b4ce3e79",
   "metadata": {},
   "source": [
    "## 4 site chain\n"
   ]
  },
  {
   "cell_type": "code",
   "execution_count": 17,
   "id": "7875164f",
   "metadata": {},
   "outputs": [],
   "source": [
    "import numpy as np\n",
    "\n",
    "sx = ([[0, 1], [1, 0]])\n",
    "sy = ([[0, -1j], [1j, 0]])\n",
    "sz = ([[1, 0], [0, -1]])\n",
    "I = np.eye(2**(1)) \n",
    "\n",
    "sxsx = np.kron(sx, sx)\n",
    "sysy = np.kron(sy, sy)\n",
    "szsz = np.kron(sz, sz)\n",
    "II = np.kron(I,I)\n",
    "\n",
    "Isx = np.kron(I,sx)\n",
    "sxI = np.kron(sx,I)\n",
    "\n",
    "Isy = np.kron(I,sy)\n",
    "syI = np.kron(sy,I)\n",
    "\n",
    "\n",
    "Isz = np.kron(I,sz)\n",
    "szI = np.kron(sz,I)"
   ]
  },
  {
   "cell_type": "code",
   "execution_count": 74,
   "id": "f91ea190",
   "metadata": {},
   "outputs": [],
   "source": [
    "\n",
    "def Ham(J, theta):\n",
    "    f = np.cos(theta)\n",
    "    H = J*(1/4)*(np.kron(sxsx, II) + np.kron(sysy, II) + np.kron(szsz, II)) # 0,1\n",
    "    H += J*(1/4)*(np.kron(Isx, sxI) + np.kron(Isy, syI) + np.kron(Isz, szI)) # 1,2\n",
    "    H += J*(1/4)*(np.kron(II, sxsx) + np.kron(II, sysy) + np.kron(II, szsz)) # 2,3\n",
    "    H += J*(1/4)*(f*np.kron(sxI, Isx) + f*np.kron(syI, Isy) + np.kron(szI, Isz)) # 3,0\n",
    "    return H"
   ]
  },
  {
   "cell_type": "code",
   "execution_count": 75,
   "id": "f8db29ce",
   "metadata": {},
   "outputs": [
    {
     "name": "stdout",
     "output_type": "stream",
     "text": [
      " Beta | energy | rho  =   10 | -0.7499659474767280368 | 0.02076354159764138\n"
     ]
    },
    {
     "name": "stderr",
     "output_type": "stream",
     "text": [
      "/home/santanu/.local/lib/python3.10/site-packages/scipy/sparse/linalg/_eigen/arpack/arpack.py:1272: RuntimeWarning: k >= N - 1 for N * N square matrix. Attempting to use scipy.linalg.eig instead.\n",
      "  warnings.warn(\"k >= N - 1 for N * N square matrix. \"\n"
     ]
    }
   ],
   "source": [
    "J  = 1.\n",
    "Lx = 4\n",
    "Ly = 1\n",
    "beta = 10\n",
    "\n",
    "twist_angles = np.linspace(0, np.pi/20, 50)\n",
    "elist = [];\n",
    "zlist = [];\n",
    "Flist = [];\n",
    "for twist in twist_angles:\n",
    "    H = Ham(J, twist)#.toarray()\n",
    "    W = eigsh(H, k=15, which='SA',return_eigenvectors=False)\n",
    "    z = np.sum(np.exp(-np.float128(beta * W)))\n",
    "    e = np.sum(W*np.exp(-np.float128(beta * W)))/z\n",
    "    elist.append(e)\n",
    "    zlist.append(z)\n",
    "    Flist.append(-np.log(z)/beta)    \n",
    "\n",
    "#rho = 2*(Flist[1] - Flist[0])/(twist_angles[1]-twist_angles[0])**2/4    #for i, twist in enumerate(twist_angles):   \n",
    "rho, rho_err = calculate_spin_stiffness(twist_angles,Flist)\n",
    "print(\" Beta | energy | rho  =  \", beta, \"|\", elist[0]/4 - J/4, \"|\", rho/Lx/Ly)"
   ]
  },
  {
   "cell_type": "markdown",
   "id": "d7073222",
   "metadata": {},
   "source": [
    "## 4x2 lattice "
   ]
  },
  {
   "cell_type": "code",
   "execution_count": 33,
   "id": "0b0a0f42",
   "metadata": {},
   "outputs": [],
   "source": [
    "import numpy as np\n",
    "\n",
    "sx = ([[0, 1], [1, 0]])\n",
    "sy = ([[0, -1j], [1j, 0]])\n",
    "sz = ([[1, 0], [0, -1]])\n",
    "I = np.eye(2**(1)) \n",
    "\n",
    "def helper_kron(s1, s2, s3, s4, s5, s6, s7, s8):\n",
    "    return np.kron(s1, np.kron(s2, np.kron(s3, np.kron(s4, np.kron(s5, np.kron(s6, np.kron(s7, s8)))))))"
   ]
  },
  {
   "cell_type": "code",
   "execution_count": 41,
   "id": "335a95a1",
   "metadata": {},
   "outputs": [],
   "source": [
    "\n",
    "\n",
    "def Ham(J, theta):\n",
    "    H = np.zeros((2**8, 2**8), dtype = np.complex64)\n",
    "    f = [np.cos(theta), np.cos(theta), 1]\n",
    "    for i, S in enumerate([sx, sy, sz]):\n",
    "        H += J*(1/4)*helper_kron(S, S, I, I, I, I, I, I) # 0,1\n",
    "        H += J*(1/4)*helper_kron(I, S, S, I, I, I, I, I) # 1,2\n",
    "        H += J*(1/4)*helper_kron(I, I, S, S, I, I, I, I) # 2,3\n",
    "        H += J*(1/4)*f[i]*helper_kron(S, I, I, S, I, I, I, I) # 3,0\n",
    "        H += J*(1/4)*helper_kron(I, I, I, I, S, S, I, I) # 4,5\n",
    "        H += J*(1/4)*helper_kron(I, I, I, I, I, S, S, I) # 5,6\n",
    "        H += J*(1/4)*helper_kron(I, I, I, I, I, I, S, S) # 6,7 \n",
    "        H += J*(1/4)*helper_kron(I, I, I, I, S, I, I, S) # 7,4 \n",
    "        \n",
    "        H += J*(1/4)*helper_kron(S, I, I, I, S, I, I, I) # 0,4  \n",
    "        H += J*(1/4)*helper_kron(I, S, I, I, I, S, I, I) # 1,5 \n",
    "        H += J*(1/4)*helper_kron(I, I, S, I, I, I, S, I) # 2,6  \n",
    "        H += J*(1/4)*helper_kron(I, I, I, S, I, I, I, S) # 3,7  \n",
    "        H += J*(1/4)*helper_kron(S, I, I, I, S, I, I, I) # 4,0  \n",
    "        H += J*(1/4)*helper_kron(I, S, I, I, I, S, I, I) # 5,1 \n",
    "        H += J*(1/4)*helper_kron(I, I, S, I, I, I, S, I) # 6,2  \n",
    "        H += J*(1/4)*helper_kron(I, I, I, S, I, I, I, S) # 7,3          \n",
    "    return H"
   ]
  },
  {
   "cell_type": "code",
   "execution_count": 43,
   "id": "3f29749c",
   "metadata": {},
   "outputs": [
    {
     "name": "stdout",
     "output_type": "stream",
     "text": [
      " Beta | energy | rho  =   10 | -1.366792619228363 | 0.005120017414487371\n"
     ]
    }
   ],
   "source": [
    "twist_angles = np.linspace(0, np.pi/20, 50)\n",
    "\n",
    "J = 1.0\n",
    "Lx = 4\n",
    "Ly = 2\n",
    "beta = 10\n",
    "elist = [];\n",
    "zlist = [];\n",
    "Flist = [];\n",
    "for twist in twist_angles:\n",
    "    H = Ham(J, twist)#.toarray()\n",
    "    W = eigsh(H, k=255, which='SA',return_eigenvectors=False)\n",
    "    z = np.sum(np.exp(-beta * W))\n",
    "    e = np.sum(W*np.exp(-beta * W))/z\n",
    "    elist.append(e)\n",
    "    zlist.append(z)\n",
    "    Flist.append(-np.log(z)/beta)    \n",
    "\n",
    "#rho = 2*(Flist[1] - Flist[0])/(twist_angles[1]-twist_angles[0])**2/4    #for i, twist in enumerate(twist_angles):   \n",
    "rho, rho_err = calculate_spin_stiffness(twist_angles,Flist)\n",
    "print(\" Beta | energy | rho  =  \", beta, \"|\", elist[0]/Lx/Ly -J/2 , \"|\", rho/Lx/Ly)"
   ]
  },
  {
   "cell_type": "code",
   "execution_count": null,
   "id": "166f1c1d",
   "metadata": {},
   "outputs": [],
   "source": []
  }
 ],
 "metadata": {
  "kernelspec": {
   "display_name": "Python 3 (ipykernel)",
   "language": "python",
   "name": "python3"
  },
  "language_info": {
   "codemirror_mode": {
    "name": "ipython",
    "version": 3
   },
   "file_extension": ".py",
   "mimetype": "text/x-python",
   "name": "python",
   "nbconvert_exporter": "python",
   "pygments_lexer": "ipython3",
   "version": "3.10.12"
  }
 },
 "nbformat": 4,
 "nbformat_minor": 5
}
