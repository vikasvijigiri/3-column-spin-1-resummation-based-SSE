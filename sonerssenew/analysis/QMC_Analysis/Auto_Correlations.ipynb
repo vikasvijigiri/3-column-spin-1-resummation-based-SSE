{
 "cells": [
  {
   "cell_type": "markdown",
   "id": "07887858",
   "metadata": {},
   "source": [
    "# Import the module"
   ]
  },
  {
   "cell_type": "code",
   "execution_count": 5,
   "id": "a33a0b04",
   "metadata": {},
   "outputs": [
    {
     "data": {
      "text/html": [
       "<style>.container { width:100% !important; }</style>"
      ],
      "text/plain": [
       "<IPython.core.display.HTML object>"
      ]
     },
     "metadata": {},
     "output_type": "display_data"
    }
   ],
   "source": [
    "from IPython.display import display, HTML\n",
    "display(HTML(\"<style>.container { width:100% !important; }</style>\"))\n",
    "\n",
    "import numpy as np\n",
    "import autocorrelation as ac\n",
    "import importlib\n",
    "import os"
   ]
  },
  {
   "cell_type": "markdown",
   "id": "f957adf1",
   "metadata": {},
   "source": [
    "# Import data "
   ]
  },
  {
   "cell_type": "code",
   "execution_count": 11,
   "id": "b075608e",
   "metadata": {},
   "outputs": [
    {
     "name": "stdout",
     "output_type": "stream",
     "text": [
      "   Beta  L  Energy_tau_avg  Energy_tau_err  Mag^2_tau_avg  Mag^2_tau_err\n",
      "0    40  4        1.111819        0.001785       1.398696       0.007282\n"
     ]
    }
   ],
   "source": [
    "importlib.reload(ac)\n",
    "pwd = os.getcwd()\n",
    "custom_dir = \"Jz_0.5/\"\n",
    "sdir = pwd + \"/../files/\" + custom_dir  \n",
    "variables = ['Beta','L']\n",
    "df = ac.run_autocorr_times(sdir, variables, ['Energy', 'Mag^2'])\n",
    "\n",
    "print(df)"
   ]
  },
  {
   "cell_type": "markdown",
   "id": "2dcfd284",
   "metadata": {},
   "source": [
    "# save data"
   ]
  },
  {
   "cell_type": "code",
   "execution_count": 10,
   "id": "e3bceb3a",
   "metadata": {},
   "outputs": [
    {
     "name": "stdout",
     "output_type": "stream",
     "text": [
      "/home/santanu/Dropbox/Square_Kitaev2D_analysis/SSEanalysis_src/../MasterData/\n",
      "mData_L_Beta_Jz0.0.dat\n"
     ]
    }
   ],
   "source": [
    "importlib.reload(da)\n",
    "save_dir = pwd + \"/../MasterData/\" \n",
    "print(save_dir)\n",
    "output_file = \"mData_L_Beta_Jz0.0.dat\"\n",
    "print(output_file)\n",
    "da.savefile(df, save_dir, output_file)"
   ]
  },
  {
   "cell_type": "markdown",
   "id": "aec1b897",
   "metadata": {},
   "source": [
    "# Plot data"
   ]
  },
  {
   "cell_type": "code",
   "execution_count": 117,
   "id": "886f077b",
   "metadata": {},
   "outputs": [
    {
     "data": {
      "image/png": "[encoded data removed]",
      "text/plain": [
       "<Figure size 360x360 with 1 Axes>"
      ]
     },
     "metadata": {
      "needs_background": "light"
     },
     "output_type": "display_data"
    }
   ],
   "source": [
    "import matplotlib.pyplot as plt\n",
    "import pandas as pd\n",
    "\n",
    "\n",
    "# Assuming it's a CSV file, you can use the read_csv function\n",
    "ifile = os.getcwd() + \"/../MasterData/\"  + \"mData_L_Beta_Jz0.0.dat\"\n",
    "\n",
    "plt.rcParams['text.usetex'] = True\n",
    "plt.rcParams['font.family'] = \"serif\"\n",
    "plt.rcParams['font.size'] = 24\n",
    "plt.rcParams['font.serif'] = \"computer modern roman\"\n",
    "plt.rcParams['axes.linewidth'] = 1.5\n",
    "\n",
    "fig, ax = plt.subplots(nrows=1, ncols=1, figsize=(5, 5))\n",
    "fs = 28\n",
    "beta = [1]\n",
    "xye = [\"L\",\"Energy_avg\",\"Energy_err\"]\n",
    "plot_data(ifile, ax, 'Beta', beta, xye)\n",
    "ax.legend(labels=beta, frameon=False, loc='best', labelspacing=.2, handlelength=2, fontsize=fs, numpoints = 2, \n",
    "        title=r\"$\\beta$\", title_fontsize=fs, markerscale=0.9, handletextpad=0.5)\n",
    "ax.set_xlabel(r\"$L$\", fontsize = fs)\n",
    "ax.set_ylabel(r\"$\\langle E \\rangle$ / N\", fontsize = fs)\n",
    "plt.show()"
   ]
  },
  {
   "cell_type": "code",
   "execution_count": 115,
   "id": "6aa831e6",
   "metadata": {},
   "outputs": [],
   "source": [
    "import matplotlib as mpl\n",
    "def plot_data(file, axv, gby, grouby_param, xye):\n",
    "    df = pd.read_csv(file, delim_whitespace=True, comment='#')\n",
    "    font_size = 28\n",
    "    col = iter([\"#E69F00\", \"#56B4E9\", \"#009E73\", \"#D55E00\", \"#CC79A7\", \"#F0E442\", \"#0072B2\"])\n",
    "    col = iter([\"Red\"])\n",
    "    if len(xye) > 2:\n",
    "        for keyy, group in df.groupby(gby):\n",
    "            key = int(keyy) if float(keyy).is_integer() else keyy\n",
    "            if keyy in grouby_param:\n",
    "                axv.errorbar(group[xye[0]], group[xye[1]], yerr=group[xye[2]], c=next(col), label=key,\n",
    "                             linestyle='-', marker='o', capthick=4, markerfacecolor='none', elinewidth=1,\n",
    "                             markersize=8, capsize=4, markeredgewidth=1.5, linewidth=1.5)\n",
    "    else:\n",
    "        for keyy, group in df.groupby(gby):\n",
    "            key = int(keyy) if float(keyy).is_integer() else keyy\n",
    "            if keyy in grouby_param:\n",
    "                axv.errorbar(group[xye[0]], group[xye[1]], c=next(col), label=key,\n",
    "                             linestyle='-', marker='o', capthick=4, markerfacecolor='none', elinewidth=1,\n",
    "                             markersize=8, capsize=4, markeredgewidth=1.5, linewidth=1.5)                \n",
    "\n",
    "    for axis in [axv.xaxis, axv.yaxis]:\n",
    "        axis.set_tick_params(which='major', length=5, width=1.5, labelsize=font_size)\n",
    "        axis.set_tick_params(which='minor', length=2.5, width=1.2, labelsize=font_size)\n",
    "        axis.set_major_locator(mpl.ticker.MaxNLocator(nbins=4))\n",
    "\n",
    "    axv.minorticks_on()\n",
    "\n",
    "    axv.get_xaxis().set_major_formatter(mpl.ticker.FuncFormatter(lambda x, pos: f\"{x:.0f}\"))\n",
    "    axv.get_yaxis().set_major_formatter(mpl.ticker.FuncFormatter(lambda x, pos: f\"{x:.3f}\"))\n",
    "    \n",
    "    # Adjust the width of the axes\n",
    "    axv.spines['top'].set_linewidth(1.4)    # Top border\n",
    "    axv.spines['bottom'].set_linewidth(1.4) # Bottom border\n",
    "    axv.spines['left'].set_linewidth(1.4)   # Left border\n",
    "    axv.spines['right'].set_linewidth(1.4)  # Right border    \n",
    "    \n",
    "    \n",
    "\n",
    "    \n",
    "\n",
    "#     num_ticks = 4\n",
    "\n",
    "#     Calculate tick positions\n",
    "#     tick_positions = np.linspace(0, len(x_fit) - 1, num_ticks, dtype=int)\n",
    "\n",
    "#     Set the ticks and labels\n",
    "#     axv.set_xticks(x_fit[tick_positions])    \n",
    "    \n",
    "    \n",
    "#     axv.set_ylabel(r\"$\\rho L$\", fontsize=1.3*28, loc=\"center\", c=\"black\", labelpad=8)    \n",
    "#     x_ticks = [0.15, 0.16, 0.17, 0.18]\n",
    "#     axv.set_xticks(x_ticks)\n",
    "#     axv.set_xticklabels(labels=x_ticks)    \n",
    "#     axv.get_legend().remove()\n",
    "\n",
    "#     trans = blended_transform_factory(x_transform=axv.transAxes, y_transform=axv.transAxes)\n",
    "#     axv.annotate(label, xy=[0.85, 0.9], xycoords=trans, color=\"black\", transform=axv.transAxes, fontsize=1.2*28)   "
   ]
  },
  {
   "cell_type": "code",
   "execution_count": null,
   "id": "83463ef8",
   "metadata": {},
   "outputs": [
    {
     "name": "stdout",
     "output_type": "stream",
     "text": [
      "[-0.465625  -0.440625  -0.3703125 ... -0.4       -0.3859375 -0.3859375]\n"
     ]
    }
   ],
   "source": [
    "import numpy as np\n",
    "import matplotlib.pyplot as plt\n",
    "import pandas as pd\n",
    "\n",
    "# Function to calculate autocorrelation function\n",
    "def autocorrelation_function(data):\n",
    "    n = len(data)\n",
    "    mean = np.mean(data)\n",
    "    centered_data = data - mean\n",
    "    autocorr = np.correlate(centered_data, centered_data, mode='full') / (np.var(data) * n)\n",
    "    return autocorr[n-1:]\n",
    "\n",
    "# Function to calculate integrated autocorrelation time\n",
    "def integrated_autocorrelation_time(autocorr):\n",
    "    tau_int = 0.5 + np.sum(autocorr)\n",
    "    return tau_int\n",
    "\n",
    "# Function to find autocorrelation time\n",
    "def find_autocorrelation_time(autocorr, threshold=1/np.e):\n",
    "    for t, value in enumerate(autocorr):\n",
    "        if value < threshold:\n",
    "            return t\n",
    "\n",
    "# Function to perform blocking analysis\n",
    "def blocking_analysis(data):\n",
    "    n = len(data)\n",
    "    block_sizes = [2**k for k in range(2,7)]\n",
    "    mean_values = []\n",
    "\n",
    "    for block_size in block_sizes:\n",
    "        # Divide data into blocks\n",
    "        blocks = [data[i:i + block_size] for i in range(0, n, block_size)]\n",
    "        print(block_size)\n",
    "        # Calculate mean for each block\n",
    "        block_means = [np.mean(block) for block in blocks]\n",
    "\n",
    "        # Calculate variance of block means\n",
    "        variance = np.var(block_means)\n",
    "\n",
    "        mean_values.append((np.mean(block_means), np.sqrt(variance)))\n",
    "\n",
    "    return mean_values\n",
    "\n",
    "\n",
    "\n",
    "file = \"/home/santanu/Dropbox/Square_Kitaev2D_analysis/SSEanalysis_src/../files/Jz_0.5/Beta_40/L4/SSE_data_time_series.txt\"\n",
    "data = pd.read_csv(file, delim_whitespace=True, comment='#', usecols = ['Energy'])\n",
    "\n",
    "# Ensure data is a 1-dimensional array\n",
    "data = np.asarray(data).ravel()\n",
    "print(data)\n",
    "# Calculate autocorrelation function\n",
    "autocorr = autocorrelation_function(data)\n",
    "\n",
    "\n",
    "print(autocorr)\n",
    "# Calculate integrated autocorrelation time\n",
    "tau_int = integrated_autocorrelation_time(autocorr)\n",
    "\n",
    "# Find autocorrelation time\n",
    "autocorr_time = find_autocorrelation_time(autocorr)\n",
    "\n",
    "# Perform blocking analysis to estimate error in autocorrelation time\n",
    "blocking_results = blocking_analysis(data)\n",
    "mean_values, errors = zip(*blocking_results)\n",
    "\n",
    "# Plot autocorrelation function\n",
    "plt.plot(autocorr)\n",
    "plt.title(f'Autocorrelation Function (Autocorrelation Time: {autocorr_time})')\n",
    "plt.xlabel('Time Lag')\n",
    "plt.ylabel('Autocorrelation')\n",
    "plt.show()\n",
    "\n",
    "# Print integrated autocorrelation time\n",
    "print(f'Integrated Autocorrelation Time: {tau_int}')\n",
    "\n",
    "# Plot blocking analysis results\n",
    "plt.errorbar(range(1, len(mean_values) + 1), mean_values, yerr=errors, fmt='o-', label='Blocking Analysis')\n",
    "plt.axhline(y=autocorr_time, color='red', linestyle='dashed', label='Autocorrelation Time')\n",
    "plt.title('Blocking Analysis for Autocorrelation Time')\n",
    "plt.xlabel('Block Index')\n",
    "plt.ylabel('Mean')\n",
    "plt.legend()\n",
    "plt.show()\n",
    "\n"
   ]
  },
  {
   "cell_type": "code",
   "execution_count": 29,
   "id": "f973c7f5",
   "metadata": {},
   "outputs": [
    {
     "name": "stdout",
     "output_type": "stream",
     "text": [
      "[-0.465625  -0.440625  -0.3703125 ... -0.4       -0.3859375 -0.3859375]\n",
      "Autocorrelation Time: 1.1906225598674702\n"
     ]
    }
   ],
   "source": [
    "import numpy as np\n",
    "import matplotlib.pyplot as plt\n",
    "import pandas as pd\n",
    "\n",
    "def auto_correlation(data, lag):\n",
    "    n = len(data)\n",
    "    mean = np.mean(data)\n",
    "    numerator = np.sum((data[:n-lag] - mean) * (data[lag:] - mean))\n",
    "    denominator = np.sum((data - mean)**2)\n",
    "    return numerator / denominator if denominator != 0 else 0\n",
    "\n",
    "def calculate_integrated_auto_correlation_time(data, max_lag):\n",
    "    integrated_auto_correlation_time = 0.5  # Initial value\n",
    "    print(data)\n",
    "    for lag in range(1, max_lag + 1):\n",
    "        correlation = auto_correlation(data, lag)\n",
    "        if correlation > 0:\n",
    "            integrated_auto_correlation_time += correlation\n",
    "        else:\n",
    "            print(\"Error: Tau is negative!\")\n",
    "            break  # Stop if correlation becomes negative\n",
    "\n",
    "    return integrated_auto_correlation_time\n",
    "\n",
    "file = \"/home/santanu/Dropbox/Square_Kitaev2D_analysis/SSEanalysis_src/../files/Jz_0.5/Beta_40/L4/SSE_data_time_series.txt\"\n",
    "data = pd.read_csv(file, delim_whitespace=True, comment='#', usecols = ['Energy'])\n",
    "\n",
    "# Ensure data is a 1-dimensional array\n",
    "data = np.asarray(data).ravel()\n",
    "\n",
    "autocorr_time = calculate_integrated_auto_correlation_time(data, 15)\n",
    "\n",
    "\n",
    "# Print autocorrelation time\n",
    "print(f'Autocorrelation Time: {autocorr_time}')\n"
   ]
  },
  {
   "cell_type": "code",
   "execution_count": 71,
   "id": "24aac25c",
   "metadata": {},
   "outputs": [
    {
     "name": "stdout",
     "output_type": "stream",
     "text": [
      "1.6906225598674707\n",
      "Autocorrelation <Tau>: 1.2150904401624558\n",
      "Autocorrelation d<Tau>: 0.006747026394165317\n"
     ]
    }
   ],
   "source": [
    "import numpy as np\n",
    "import matplotlib.pyplot as plt\n",
    "import pandas as pd\n",
    "\n",
    "def auto_correlation(data, lag):\n",
    "    n = len(data)\n",
    "    mean = np.mean(data)\n",
    "    numerator = np.sum((data[:n-lag] - mean) * (data[lag:] - mean))\n",
    "    denominator = np.sum((data - mean)**2)\n",
    "    return numerator / denominator if denominator != 0 else 0\n",
    "\n",
    "def calculate_integrated_auto_correlation_time(data, max_lag):\n",
    "    integrated_auto_correlation_time = 0.0  # Initial value\n",
    "    #print(data)\n",
    "    for lag in range(0, max_lag + 1):\n",
    "        correlation = auto_correlation(data, lag)\n",
    "        if correlation > 0:\n",
    "            integrated_auto_correlation_time += correlation\n",
    "        else:\n",
    "            #print(\"Error: Tau is negative!\")\n",
    "            break  # Stop if correlation becomes negative\n",
    "\n",
    "    return integrated_auto_correlation_time\n",
    "\n",
    "def calculate_auto_correlation_time(data, max_lag):\n",
    "    auto_correlation_times = []\n",
    "    for lag in range(1, max_lag + 1):\n",
    "        correlation = auto_correlation(data, lag)\n",
    "        if correlation > 0:\n",
    "            auto_correlation_times.append(lag * correlation)\n",
    "        else:\n",
    "            break  # Stop if correlation becomes negative\n",
    "\n",
    "    return np.sum(auto_correlation_times)\n",
    "\n",
    "def block_resampling(data, block_size):\n",
    "    n = len(data)\n",
    "    num_blocks = n // block_size\n",
    "    block_means = np.mean(data[:num_blocks * block_size].reshape((num_blocks, block_size)), axis=1)\n",
    "    return block_means\n",
    "\n",
    "def estimate_error(data, max_lag, num_blocks):\n",
    "    n = len(data)\n",
    "    block_sizes = [2**k for k in range(int(np.log2(n)) - 1)]  # Using 5 different block sizes\n",
    "    auto_corr_times = []\n",
    "\n",
    "    for block_size in block_sizes:\n",
    "        block_means = block_resampling(data, block_size)\n",
    "        auto_corr_time = calculate_integrated_auto_correlation_time(block_means, max_lag)\n",
    "        auto_corr_times.append(auto_corr_time)\n",
    "\n",
    "    mean_auto_corr_time = np.mean(auto_corr_times)\n",
    "    std_dev_auto_corr_time = np.std(auto_corr_times)\n",
    "    \n",
    "    # Standard error of the mean\n",
    "    error = std_dev_auto_corr_time / np.sqrt(num_blocks)\n",
    "    return mean_auto_corr_time, error\n",
    "\n",
    "file = \"/home/santanu/Dropbox/Square_Kitaev2D_analysis/SSEanalysis_src/../files/Jz_0.5/Beta_40/L4/SSE_data_time_series.txt\"\n",
    "data = pd.read_csv(file, delim_whitespace=True, comment='#', usecols = ['Energy'])\n",
    "\n",
    "# Ensure data is a 1-dimensional array\n",
    "data = np.asarray(data).ravel()\n",
    "auto_corr = calculate_integrated_auto_correlation_time(data, 15)\n",
    "\n",
    "\n",
    "print(auto_corr)\n",
    "\n",
    "#autocorr_time = calculate_integrated_auto_correlation_time(data, 10)\n",
    "tau_mean, tau_err = estimate_error(data, 50, 1000)\n",
    "\n",
    "# Print autocorrelation time\n",
    "print(f'Autocorrelation <Tau>: {tau_mean}')\n",
    "print(f'Autocorrelation d<Tau>: {tau_err}')"
   ]
  },
  {
   "cell_type": "code",
   "execution_count": 73,
   "id": "d84c5ef7",
   "metadata": {},
   "outputs": [
    {
     "name": "stdout",
     "output_type": "stream",
     "text": [
      "Empty DataFrame\n",
      "Columns: [Energy_avg, Energy_err, Mag_avg, Mag_err]\n",
      "Index: []\n"
     ]
    }
   ],
   "source": [
    "obs = [\"Energy\", \"Mag\"]\n",
    "\n",
    "obs_tau = [f'{item}{suffix}' for item in obs for suffix in [\"_avg\", \"_err\"]]\n",
    "df_tau   = pd.DataFrame([], columns=obs_tau) \n",
    "\n",
    "print(df_tau)"
   ]
  },
  {
   "cell_type": "code",
   "execution_count": null,
   "id": "8701c4e1",
   "metadata": {},
   "outputs": [],
   "source": []
  }
 ],
 "metadata": {
  "kernelspec": {
   "display_name": "Python 3 (ipykernel)",
   "language": "python",
   "name": "python3"
  },
  "language_info": {
   "codemirror_mode": {
    "name": "ipython",
    "version": 3
   },
   "file_extension": ".py",
   "mimetype": "text/x-python",
   "name": "python",
   "nbconvert_exporter": "python",
   "pygments_lexer": "ipython3",
   "version": "3.10.12"
  }
 },
 "nbformat": 4,
 "nbformat_minor": 5
}
