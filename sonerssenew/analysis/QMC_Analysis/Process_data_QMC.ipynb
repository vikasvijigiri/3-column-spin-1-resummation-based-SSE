{
 "cells": [
  {
   "cell_type": "markdown",
   "id": "07887858",
   "metadata": {},
   "source": [
    "# Import the module"
   ]
  },
  {
   "cell_type": "code",
   "execution_count": 1,
   "id": "a33a0b04",
   "metadata": {},
   "outputs": [
    {
     "data": {
      "text/html": [
       "<style>.container { width:100% !important; }</style>"
      ],
      "text/plain": [
       "<IPython.core.display.HTML object>"
      ]
     },
     "metadata": {},
     "output_type": "display_data"
    }
   ],
   "source": [
    "from IPython.display import display, HTML\n",
    "display(HTML(\"<style>.container { width:100% !important; }</style>\"))\n",
    "\n",
    "import analysis as da\n",
    "import importlib\n",
    "import os"
   ]
  },
  {
   "cell_type": "markdown",
   "id": "f957adf1",
   "metadata": {},
   "source": [
    "# (a) Collect all data from raw data sources."
   ]
  },
  {
   "cell_type": "code",
   "execution_count": 6,
   "id": "b075608e",
   "metadata": {},
   "outputs": [
    {
     "name": "stdout",
     "output_type": "stream",
     "text": [
      "Hello, you are extracting *.txt files from  /home/santanu/Dropbox/spin_half_bilayer/Analysis_python/../files/Beta_convergence/\n"
     ]
    }
   ],
   "source": [
    "importlib.reload(da)\n",
    "pwd = os.getcwd()\n",
    "custom_dir = \"\"#\"Jz_0.0/\"\n",
    "sdir = pwd + \"/../files/Beta_convergence/\" + custom_dir  \n",
    "variables = [\"J_H\", \"lamda\",\"fug\", \"Beta\", \"L\"]\n",
    "file_list, df = da.run_update(sdir, variables)"
   ]
  },
  {
   "cell_type": "markdown",
   "id": "5f27f687",
   "metadata": {},
   "source": [
    "# (b) Print data"
   ]
  },
  {
   "cell_type": "code",
   "execution_count": 7,
   "id": "615340a9",
   "metadata": {},
   "outputs": [
    {
     "name": "stdout",
     "output_type": "stream",
     "text": [
      "     J_H  lamda   fug   Beta  L  enrg_avg  enrg_err  enrg2_avg  enrg2_err  \\\n",
      "0  0.025    1.0  0.16  0.025  4 -2.045061  0.069198   4.246119    0.28879   \n",
      "\n",
      "   enrg4_avg  ...  B_real2_1_1_avg  B_real2_1_1_err  B_real3_0_0_avg  \\\n",
      "0  19.113187  ...         -0.00491         0.001774         0.002407   \n",
      "\n",
      "   B_real3_0_0_err  B_real3_0_1_avg  B_real3_0_1_err  B_real3_1_0_avg  \\\n",
      "0         0.002556         0.003445         0.002928        -0.001902   \n",
      "\n",
      "   B_real3_1_0_err  B_real3_1_1_avg  B_real3_1_1_err  \n",
      "0         0.002628        -0.004456         0.002494  \n",
      "\n",
      "[1 rows x 91 columns]\n"
     ]
    }
   ],
   "source": [
    "#df = df[df['Beta'] == 30]\n",
    "print(df)"
   ]
  },
  {
   "cell_type": "markdown",
   "id": "0d0c38ec",
   "metadata": {},
   "source": [
    "# Rules for sym/asymm combination:\n",
    "\n",
    "### Neel params:\n",
    "\n",
    "Form = Layer1 + Layer2 $\\pm$ (Interlayer1 + Interlayer2)  \n",
    "\n",
    "$M^2_z(\\textbf{q} = \\pi + \\frac{2\\pi}{lx}, \\pi)$ : $\\text{N1}_{\\text{real}} = \\text{N}_{\\text{real}}[0][0] + \\text{N}_{\\text{real}}[0][1] \\pm (\\text{N}_{\\text{real}}[0][2] + \\text{N}_{\\text{real}}[0][3])$ \n",
    "\n",
    "$M^2_z(\\textbf{q} = \\pi, \\pi + \\frac{2\\pi}{ly})$ : $\\text{N2}_{\\text{real}} = \\text{N}_{\\text{real}}[1][0] + \\text{N}_{\\text{real}}[1][1] \\pm (\\text{N}_{\\text{real}}[1][2] + \\text{N}_{\\text{real}}[1][3])$ \n",
    "\n",
    "$M^2_z(\\textbf{q} = \\pi, \\pi)$ : $\\text{N3}_{\\text{real}} = \\text{N}_{\\text{real}}[2][0] + \\text{N}_{\\text{real}}[2][1] \\pm (\\text{N}_{\\text{real}}[2][2] + \\text{N}_{\\text{real}}[2][3])$\n",
    "\n",
    "### VBS params:\n",
    "\n",
    "Form = Layer1 + Layer2 $\\pm$ (Interlayer1 + Interlayer2) \n",
    "\n",
    "$D_x(\\textbf{q} = \\pi, \\frac{2\\pi}{lx})$: $\\text{B1}_{\\text{real}} = \\text{B}_{\\text{real}}[0][0][0] + \\text{B}_{\\text{real}}[0][0][1] \\pm (\\text{B}_{\\text{real}}[0][1][0] + \\text{B}_{\\text{real}}[0][1][1])$ \n",
    "\n",
    "$D_x(\\textbf{q} = \\pi, 0)$: $\\text{B2}_{\\text{real}} = \\text{B}_{\\text{real}}[1][0][0] + \\text{B}_{\\text{real}}[1][0][1] \\pm (\\text{B}_{\\text{real}}[1][1][0] + \\text{B}_{\\text{real}}[1][1][1])$ \n",
    "\n",
    "$D_y(\\textbf{q} = \\frac{2\\pi}{ly}, \\pi)$: $\\text{B3}_{\\text{real}} = \\text{B}_{\\text{real}}[2][0][0] + \\text{B}_{\\text{real}}[2][0][1] \\pm (\\text{B}_{\\text{real}}[2][1][0] + \\text{B}_{\\text{real}}[2][1][1])$\n",
    "\n",
    "$D_y(\\textbf{q} = 0, \\pi)$: $\\text{B4}_{\\text{real}} = \\text{B}_{\\text{real}}[3][2][0] + \\text{B}_{\\text{real}}[3][2][1] \\pm (\\text{B}_{\\text{real}}[3][2][2] + \\text{B}_{\\text{real}}[3][2][3])$"
   ]
  },
  {
   "cell_type": "code",
   "execution_count": 1,
   "id": "d7a2abf1",
   "metadata": {},
   "outputs": [
    {
     "ename": "NameError",
     "evalue": "name 'df' is not defined",
     "output_type": "error",
     "traceback": [
      "\u001b[0;31m---------------------------------------------------------------------------\u001b[0m",
      "\u001b[0;31mNameError\u001b[0m                                 Traceback (most recent call last)",
      "\u001b[0;32m/tmp/ipykernel_34047/2911235641.py\u001b[0m in \u001b[0;36m<module>\u001b[0;34m\u001b[0m\n\u001b[1;32m      3\u001b[0m \u001b[0;34m\u001b[0m\u001b[0m\n\u001b[1;32m      4\u001b[0m \u001b[0;34m\u001b[0m\u001b[0m\n\u001b[0;32m----> 5\u001b[0;31m \u001b[0mN1_avg\u001b[0m \u001b[0;34m=\u001b[0m \u001b[0mnp\u001b[0m\u001b[0;34m.\u001b[0m\u001b[0marray\u001b[0m\u001b[0;34m(\u001b[0m\u001b[0;34m[\u001b[0m\u001b[0mdf\u001b[0m\u001b[0;34m[\u001b[0m\u001b[0;34m\"N_real0_0_avg\"\u001b[0m\u001b[0;34m]\u001b[0m\u001b[0;34m,\u001b[0m \u001b[0mdf\u001b[0m\u001b[0;34m[\u001b[0m\u001b[0;34m\"N_real0_1_avg\"\u001b[0m\u001b[0;34m]\u001b[0m\u001b[0;34m,\u001b[0m \u001b[0mdf\u001b[0m\u001b[0;34m[\u001b[0m\u001b[0;34m\"N_real0_2_avg\"\u001b[0m\u001b[0;34m]\u001b[0m\u001b[0;34m,\u001b[0m \u001b[0mdf\u001b[0m\u001b[0;34m[\u001b[0m\u001b[0;34m\"N_real0_3_avg\"\u001b[0m\u001b[0;34m]\u001b[0m\u001b[0;34m]\u001b[0m\u001b[0;34m)\u001b[0m\u001b[0;34m\u001b[0m\u001b[0;34m\u001b[0m\u001b[0m\n\u001b[0m\u001b[1;32m      6\u001b[0m \u001b[0mN1_err\u001b[0m \u001b[0;34m=\u001b[0m \u001b[0mnp\u001b[0m\u001b[0;34m.\u001b[0m\u001b[0marray\u001b[0m\u001b[0;34m(\u001b[0m\u001b[0;34m[\u001b[0m\u001b[0mdf\u001b[0m\u001b[0;34m[\u001b[0m\u001b[0;34m\"N_real0_0_err\"\u001b[0m\u001b[0;34m]\u001b[0m\u001b[0;34m,\u001b[0m \u001b[0mdf\u001b[0m\u001b[0;34m[\u001b[0m\u001b[0;34m\"N_real0_1_err\"\u001b[0m\u001b[0;34m]\u001b[0m\u001b[0;34m,\u001b[0m \u001b[0mdf\u001b[0m\u001b[0;34m[\u001b[0m\u001b[0;34m\"N_real0_2_err\"\u001b[0m\u001b[0;34m]\u001b[0m\u001b[0;34m,\u001b[0m \u001b[0mdf\u001b[0m\u001b[0;34m[\u001b[0m\u001b[0;34m\"N_real0_3_err\"\u001b[0m\u001b[0;34m]\u001b[0m\u001b[0;34m]\u001b[0m\u001b[0;34m)\u001b[0m\u001b[0;34m\u001b[0m\u001b[0;34m\u001b[0m\u001b[0m\n\u001b[1;32m      7\u001b[0m \u001b[0;34m\u001b[0m\u001b[0m\n",
      "\u001b[0;31mNameError\u001b[0m: name 'df' is not defined"
     ]
    }
   ],
   "source": [
    "import numpy as np\n",
    "\n",
    "\n",
    "\n",
    "N1_avg = np.array([df[\"N_real0_0_avg\"], df[\"N_real0_1_avg\"], df[\"N_real0_2_avg\"], df[\"N_real0_3_avg\"]])\n",
    "N1_err = np.array([df[\"N_real0_0_err\"], df[\"N_real0_1_err\"], df[\"N_real0_2_err\"], df[\"N_real0_3_err\"]])\n",
    "\n",
    "N2_avg = np.array([df[\"N_real1_0_avg\"], df[\"N_real1_1_avg\"], df[\"N_real1_2_avg\"], df[\"N_real1_3_avg\"]])\n",
    "N2_err = np.array([df[\"N_real1_0_err\"], df[\"N_real1_1_err\"], df[\"N_real1_2_err\"], df[\"N_real1_3_err\"]])\n",
    "\n",
    "N3_avg = np.array([df[\"N_real2_0_avg\"], df[\"N_real2_1_avg\"], df[\"N_real2_2_avg\"], df[\"N_real2_3_avg\"]])\n",
    "N3_err = np.array([df[\"N_real2_0_err\"], df[\"N_real2_1_err\"], df[\"N_real2_2_err\"], df[\"N_real2_3_err\"]])\n",
    "\n",
    "N4_avg = np.array([df[\"N_real3_0_avg\"], df[\"N_real3_1_avg\"], df[\"N_real3_2_avg\"], df[\"N_real3_3_avg\"]])\n",
    "N4_err = np.array([df[\"N_real3_0_err\"], df[\"N_real3_1_err\"], df[\"N_real3_2_err\"], df[\"N_real3_3_err\"]])\n",
    "\n",
    "\n",
    "asym_kernel = np.array([1.,1.,-1.,-1.])\n",
    "sym_kernel = np.array([1.,1.,1.,1.])\n",
    "\n",
    "# Add/subtract datasets element-wise\n",
    "N1sym_avg, N1sym_err = np.sum(y_data[0], np.sum(y_data[1:], axis=0)), np.sqrt(np.sum(np.square(error_data), axis=0))\n",
    "\n",
    "\n",
    "# Display the combined result\n",
    "print(\"Combined Data:\", N1sym_avg)\n",
    "print(\"Combined Error:\", N1sym_err)\n",
    "\n",
    "\n",
    "\n",
    "N1_avg = np.array([df[\"B_real0_0_0_avg\"], df[\"B_real0_0_1_avg\"], df[\"B_real0_2_avg\"], df[\"N_real0_3_avg\"]])\n",
    "N1_err = np.array([df[\"B_real0_0_err\"], df[\"B_real0_1_err\"], df[\"N_real0_2_err\"], df[\"N_real0_3_err\"]])\n",
    "\n",
    "N2_avg = np.array([df[\"N_real1_0_avg\"], df[\"N_real1_1_avg\"], df[\"N_real1_2_avg\"], df[\"N_real1_3_avg\"]])\n",
    "N2_err = np.array([df[\"N_real1_0_err\"], df[\"N_real1_1_err\"], df[\"N_real1_2_err\"], df[\"N_real1_3_err\"]])\n",
    "\n",
    "N3_avg = np.array([df[\"N_real2_0_avg\"], df[\"N_real2_1_avg\"], df[\"N_real2_2_avg\"], df[\"N_real2_3_avg\"]])\n",
    "N3_err = np.array([df[\"N_real2_0_err\"], df[\"N_real2_1_err\"], df[\"N_real2_2_err\"], df[\"N_real2_3_err\"]])\n",
    "\n",
    "N4_avg = np.array([df[\"N_real3_0_avg\"], df[\"N_real3_1_avg\"], df[\"N_real3_2_avg\"], df[\"N_real3_3_avg\"]])\n",
    "N4_err = np.array([df[\"N_real3_0_err\"], df[\"N_real3_1_err\"], df[\"N_real3_2_err\"], df[\"N_real3_3_err\"]])\n"
   ]
  },
  {
   "cell_type": "markdown",
   "id": "2e9ec815",
   "metadata": {},
   "source": [
    "# (c) Save data containing all parameters. MASTER DATA"
   ]
  },
  {
   "cell_type": "code",
   "execution_count": 10,
   "id": "1779fa8a",
   "metadata": {},
   "outputs": [
    {
     "name": "stdout",
     "output_type": "stream",
     "text": [
      "/home/santanu/Dropbox/Square_Kitaev2D_analysis/SSEanalysis_src/../MasterData/\n",
      "mData_L_Beta_Jz0.0.dat\n"
     ]
    }
   ],
   "source": [
    "importlib.reload(da)\n",
    "save_dir = pwd + \"/../MasterData/\" \n",
    "print(save_dir)\n",
    "output_file = \"mData_L_Beta_Jz0.0.dat\"\n",
    "print(output_file)\n",
    "da.savefile(df, save_dir, output_file)"
   ]
  },
  {
   "cell_type": "markdown",
   "id": "d3957b1c",
   "metadata": {},
   "source": [
    "# (d) ($<S^z_0S^z_j>$ for $j=0,..., N$)"
   ]
  },
  {
   "cell_type": "code",
   "execution_count": 41,
   "id": "fd7438e1",
   "metadata": {},
   "outputs": [
    {
     "name": "stdout",
     "output_type": "stream",
     "text": [
      "Hello, you are extracting *.txt files from  /home/santanu/Dropbox/Square_Kitaev2D_analysis/SSEanalysis_src/../files/Jz_0.5/\n",
      "    SzSz_Avg  SzSz_Err\n",
      "0   1.000000  0.000000\n",
      "1   0.014630  0.000841\n",
      "2   0.013452  0.001949\n",
      "3   0.015008  0.001619\n",
      "4   0.215553  0.001867\n",
      "5   0.011388  0.001279\n",
      "6   0.013462  0.001891\n",
      "7   0.014942  0.000752\n",
      "8   0.107725  0.000863\n",
      "9   0.012827  0.001120\n",
      "10  0.013020  0.002355\n",
      "11  0.013193  0.002347\n",
      "12  0.212703  0.000829\n",
      "13  0.011200  0.001244\n",
      "14  0.012623  0.001184\n",
      "15  0.012155  0.001996\n"
     ]
    }
   ],
   "source": [
    "importlib.reload(da)\n",
    "pwd = os.getcwd()\n",
    "custom_dir = \"Jz_0.5/\"\n",
    "sdir = pwd + \"/../files/\" + custom_dir  \n",
    "variables = ['Beta','L']\n",
    "file_list, df = da.run_update(sdir, variables, \"szsz_avg.txt\")\n",
    "\n",
    "\n",
    "\n",
    "# Use melt to reshape the DataFrame\n",
    "df_melted = pd.melt(df, var_name='Var', value_name='Value')\n",
    "\n",
    "# Extract columns with \"_avg\" and \"_err\"\n",
    "avg_rows = df_melted[df_melted['Var'].str.endswith('_avg')].reset_index(drop=True)\n",
    "err_rows = df_melted[df_melted['Var'].str.endswith('_err')].reset_index(drop=True)\n",
    "\n",
    "# Create a new DataFrame with the desired structure\n",
    "df = pd.DataFrame({\n",
    "    'SzSz_Avg': avg_rows['Value'],\n",
    "    'SzSz_Err': err_rows['Value']\n",
    "})\n",
    "\n",
    "# Display the resulting DataFrame\n",
    "print(df)\n"
   ]
  },
  {
   "cell_type": "markdown",
   "id": "2dcfd284",
   "metadata": {},
   "source": [
    "# (e) save $<S_zS_j>$ data"
   ]
  },
  {
   "cell_type": "code",
   "execution_count": 10,
   "id": "e3bceb3a",
   "metadata": {},
   "outputs": [
    {
     "name": "stdout",
     "output_type": "stream",
     "text": [
      "/home/santanu/Dropbox/Square_Kitaev2D_analysis/SSEanalysis_src/../MasterData/\n",
      "mData_L_Beta_Jz0.0.dat\n"
     ]
    }
   ],
   "source": [
    "importlib.reload(da)\n",
    "save_dir = pwd + \"/../MasterData/\" \n",
    "print(save_dir)\n",
    "output_file = \"mData_L_Beta_Jz0.0.dat\"\n",
    "print(output_file)\n",
    "da.savefile(df, save_dir, output_file)"
   ]
  },
  {
   "cell_type": "markdown",
   "id": "aec1b897",
   "metadata": {},
   "source": [
    "# (f) Plot data of $<E>$ v $L$"
   ]
  },
  {
   "cell_type": "code",
   "execution_count": 15,
   "id": "886f077b",
   "metadata": {},
   "outputs": [
    {
     "data": {
      "image/png": "[encoded data removed]",
      "text/plain": [
       "<Figure size 360x360 with 1 Axes>"
      ]
     },
     "metadata": {
      "needs_background": "light"
     },
     "output_type": "display_data"
    }
   ],
   "source": [
    "import matplotlib.pyplot as plt\n",
    "import plot_helper as ph\n",
    "\n",
    "\n",
    "\n",
    "importlib.reload(ph)\n",
    "# Assuming it's a CSV file, you can use the read_csv function\n",
    "ifile = os.getcwd() + \"/../MasterData/\"  + \"mData_L_Beta_Jz0.0.dat\"\n",
    "\n",
    "plt.rcParams['text.usetex'] = True\n",
    "plt.rcParams['font.family'] = \"serif\"\n",
    "plt.rcParams['font.size'] = 24\n",
    "plt.rcParams['font.serif'] = \"computer modern roman\"\n",
    "plt.rcParams['axes.linewidth'] = 1.5\n",
    "\n",
    "fig, ax = plt.subplots(nrows=1, ncols=1, figsize=(5, 5))\n",
    "fs = 28\n",
    "beta = [1]\n",
    "xye = [\"L\",\"Energy_avg\",\"Energy_err\"]\n",
    "ph.plot_data(ifile, ax, 'Beta', beta, xye)\n",
    "ax.legend(labels=beta, frameon=False, loc='best', labelspacing=.2, handlelength=2, fontsize=fs, numpoints = 2, \n",
    "        title=r\"$\\beta$\", title_fontsize=fs, markerscale=0.9, handletextpad=0.5)\n",
    "ax.set_xlabel(r\"$L$\", fontsize = fs)\n",
    "ax.set_ylabel(r\"$\\langle E \\rangle$ / N\", fontsize = fs)\n",
    "plt.title(r\"$J_z= 0$\")\n",
    "plt.show()"
   ]
  },
  {
   "cell_type": "markdown",
   "id": "cd2f32e8",
   "metadata": {},
   "source": [
    "# (g) Plot data of $<M^2>$ v $J_z$"
   ]
  },
  {
   "cell_type": "code",
   "execution_count": 44,
   "id": "4d836c80",
   "metadata": {},
   "outputs": [
    {
     "data": {
      "image/png": "[encoded data removed]",
      "text/plain": [
       "<Figure size 432x432 with 1 Axes>"
      ]
     },
     "metadata": {
      "needs_background": "light"
     },
     "output_type": "display_data"
    }
   ],
   "source": [
    "import matplotlib.pyplot as plt\n",
    "import plot_helper as ph\n",
    "\n",
    "\n",
    "\n",
    "importlib.reload(ph)\n",
    "# Assuming it's a CSV file, you can use the read_csv function\n",
    "ifile = os.getcwd() + \"/../MasterData/\"  + \"mData_L_Beta_Jz0.0.dat\"\n",
    "\n",
    "plt.rcParams['text.usetex'] = True\n",
    "plt.rcParams['font.family'] = \"serif\"\n",
    "plt.rcParams['font.size'] = 24\n",
    "plt.rcParams['font.serif'] = \"computer modern roman\"\n",
    "plt.rcParams['axes.linewidth'] = 1.5\n",
    "\n",
    "fig, ax = plt.subplots(nrows=1, ncols=1, figsize=(6, 6))\n",
    "fs = 28\n",
    "L = [3,4,6,8,10,12,16]\n",
    "xye = [\"Jz\",\"Mag^2_avg\",\"Mag^2_err\"]\n",
    "ph.plot_data(df, ax, 'L', L, xye)\n",
    "ax.legend(labels=L, frameon=False, loc=(1.1,0.0), labelspacing=.2, handlelength=2, fontsize=fs, numpoints = 2, \n",
    "        title=r\"$L$\", title_fontsize=fs, markerscale=0.9, handletextpad=0.5)\n",
    "ax.set_xlabel(r\"$J_z$\", fontsize = fs)\n",
    "ax.set_ylabel(r\"$m^2_z$\", fontsize = fs)\n",
    "#plt.title(r\"$<M^2_z>$\")\n",
    "plt.show()"
   ]
  },
  {
   "cell_type": "code",
   "execution_count": 4,
   "id": "83463ef8",
   "metadata": {},
   "outputs": [
    {
     "name": "stdout",
     "output_type": "stream",
     "text": [
      "Original Array:\n",
      "[ 1  2  3  4  5  6  7  8  9 10 11 12]\n",
      "\n",
      "Subarray at every 2nd row:\n",
      "[ 1  3  5  7  9 11]\n"
     ]
    }
   ],
   "source": [
    "import numpy as np\n",
    "\n",
    "def get_subarray_at_nth_row(arr, n):\n",
    "    # Use array slicing to get a subarray at every Nth row\n",
    "    subarray = arr[::n]\n",
    "    return subarray\n",
    "\n",
    "# Example array\n",
    "my_array = np.array([1, 2, 3,\n",
    "                     4, 5, 6,\n",
    "                     7, 8, 9,\n",
    "                     10, 11, 12])\n",
    "\n",
    "# Get a subarray at every 2nd row\n",
    "result = get_subarray_at_nth_row(my_array, 2)\n",
    "\n",
    "print(\"Original Array:\")\n",
    "print(my_array)\n",
    "print(\"\\nSubarray at every 2nd row:\")\n",
    "print(result)\n"
   ]
  },
  {
   "cell_type": "code",
   "execution_count": 17,
   "id": "a6925f00",
   "metadata": {},
   "outputs": [
    {
     "name": "stdout",
     "output_type": "stream",
     "text": [
      "    A  B   C   D\n",
      "0  13  2  19  22\n",
      "1  14  5  20  23\n",
      "2  15  8  21  24\n",
      "Original DataFrame:\n",
      "    A  B   C   D\n",
      "0  13  2  19  22\n",
      "1  14  5  20  23\n",
      "2  15  8  21  24\n",
      "\n",
      "Grouped DataFrame:\n",
      "   A  B  C  D\n",
      "0  A  B  C  D\n",
      "1  A  B  C  D\n",
      "2  A  B  C  D\n"
     ]
    }
   ],
   "source": [
    "import pandas as pd\n",
    "\n",
    "# Sample DataFrame\n",
    "data = {\n",
    "    'A': [1, 4, 7],\n",
    "    'B': [2, 5, 8],\n",
    "    'C': [3, 6, 9],\n",
    "    'D': [10, 11, 12],\n",
    "    'A': [13, 14, 15],\n",
    "    'C': [16, 17, 18],\n",
    "    'C': [19, 20, 21],\n",
    "    'D': [22, 23, 24]\n",
    "}\n",
    "\n",
    "df = pd.DataFrame(data)\n",
    "\n",
    "print(df)\n",
    "\n",
    "# Group by columns and aggregate them into a single column\n",
    "grouped_df = df.groupby(level=0, axis=1).agg(lambda x: ', '.join(map(str, x)))\n",
    "\n",
    "# Reset index to create a new column for original indices\n",
    "grouped_df.reset_index(inplace=True, drop=True)\n",
    "\n",
    "print(\"Original DataFrame:\")\n",
    "print(df)\n",
    "\n",
    "print(\"\\nGrouped DataFrame:\")\n",
    "print(grouped_df)\n"
   ]
  },
  {
   "cell_type": "code",
   "execution_count": 40,
   "id": "f9b38b2c",
   "metadata": {},
   "outputs": [
    {
     "name": "stdout",
     "output_type": "stream",
     "text": [
      "    All_Column_Avg  All_Column_Err\n",
      "0              1.2             0.1\n",
      "1              2.3             0.2\n",
      "2              3.4             0.3\n",
      "3              4.5             0.4\n",
      "4              5.6             0.5\n",
      "5              6.7             0.6\n",
      "6              7.8             0.7\n",
      "7              8.9             0.8\n",
      "8              9.0             0.9\n",
      "9             10.1             1.0\n",
      "10            11.2             1.1\n",
      "11            12.3             1.2\n",
      "12            13.4             1.3\n",
      "13            14.5             1.4\n",
      "14            15.6             1.5\n"
     ]
    }
   ],
   "source": [
    "import pandas as pd\n",
    "\n",
    "# Sample DataFrame\n",
    "data = {'A_avg': [1.2, 2.3, 3.4],\n",
    "        'A_err': [0.1, 0.2, 0.3],\n",
    "        'B_avg': [4.5, 5.6, 6.7],\n",
    "        'B_err': [0.4, 0.5, 0.6],\n",
    "        'C_avg': [7.8, 8.9, 9.0],\n",
    "        'C_err': [0.7, 0.8, 0.9],\n",
    "        'D_avg': [10.1, 11.2, 12.3],\n",
    "        'D_err': [1.0, 1.1, 1.2],\n",
    "        'E_avg': [13.4, 14.5, 15.6],\n",
    "        'E_err': [1.3, 1.4, 1.5]}\n",
    "\n",
    "df = pd.DataFrame(data)\n",
    "\n",
    "# Use melt to reshape the DataFrame\n",
    "df_melted = pd.melt(df, var_name='Var', value_name='Value')\n",
    "\n",
    "# Extract columns with \"_avg\" and \"_err\"\n",
    "avg_rows = df_melted[df_melted['Var'].str.endswith('_avg')].reset_index(drop=True)\n",
    "err_rows = df_melted[df_melted['Var'].str.endswith('_err')].reset_index(drop=True)\n",
    "\n",
    "# Create a new DataFrame with the desired structure\n",
    "result_df = pd.DataFrame({\n",
    "    'All_Column_Avg': avg_rows['Value'],\n",
    "    'All_Column_Err': err_rows['Value']\n",
    "})\n",
    "\n",
    "# Display the resulting DataFrame\n",
    "print(result_df)\n"
   ]
  },
  {
   "cell_type": "code",
   "execution_count": null,
   "id": "256589d5",
   "metadata": {},
   "outputs": [],
   "source": []
  },
  {
   "cell_type": "code",
   "execution_count": null,
   "id": "e8d6abd2",
   "metadata": {},
   "outputs": [],
   "source": []
  }
 ],
 "metadata": {
  "kernelspec": {
   "display_name": "Python 3 (ipykernel)",
   "language": "python",
   "name": "python3"
  },
  "language_info": {
   "codemirror_mode": {
    "name": "ipython",
    "version": 3
   },
   "file_extension": ".py",
   "mimetype": "text/x-python",
   "name": "python",
   "nbconvert_exporter": "python",
   "pygments_lexer": "ipython3",
   "version": "3.10.12"
  }
 },
 "nbformat": 4,
 "nbformat_minor": 5
}
