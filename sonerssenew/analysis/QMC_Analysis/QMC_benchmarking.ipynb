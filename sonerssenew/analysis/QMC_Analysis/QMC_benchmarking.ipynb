{
 "cells": [
  {
   "cell_type": "markdown",
   "id": "0d0c38ec",
   "metadata": {},
   "source": [
    "### Neel params:\n",
    "\n",
    "    1)    O_N_0   ------>   O_N of layer 1  (Involves only correlations of bonds of that layer only)\n",
    "\n",
    "    2)    O_N_1   ------>   O_N of layer 2   (\"\")  \n",
    "\n",
    "    1)    R_N_0   ------>   R_N of layer 1   (\"\")\n",
    "\n",
    "    2)    R_N_1   ------>   R_N of layer 2   (\"\")\n",
    "\n",
    "### VBS params No. 1:\n",
    "\n",
    "    1)    O_V_0_0   ------>   O_V of layer 1    (\"\")\n",
    "\n",
    "    2)    O_V_3_3   ------>   O_V of layer 2    (\"\")\n",
    "\n",
    "    3)    R_V_0_0   ------>   R_V of layer 1    (\"\")\n",
    "\n",
    "    4)    R_V_3_3   ------>   R_V of layer 2    (\"\")\n",
    "    \n",
    "### VBS params No. 2:    \n",
    "    \n",
    "    1)    O_B_0_0   ------>   O_B of layer 1    (\"\")\n",
    "\n",
    "    2)    O_B_3_3   ------>   O_B of layer 2    (\"\") (Note: This does not work when lambda = 0)\n",
    "\n",
    "    3)    R_B_0_0   ------>   R_B of layer 1    (\"\")\n",
    "\n",
    "    4)    R_B_3_3   ------>   R_B of layer 2    (\"\") (Note: This does not work when lambda = 0)\n"
   ]
  },
  {
   "cell_type": "markdown",
   "id": "07887858",
   "metadata": {},
   "source": [
    "# Import the module"
   ]
  },
  {
   "cell_type": "code",
   "execution_count": 172,
   "id": "a33a0b04",
   "metadata": {},
   "outputs": [
    {
     "data": {
      "text/html": [
       "<style>.container { width:100% !important; }</style>"
      ],
      "text/plain": [
       "<IPython.core.display.HTML object>"
      ]
     },
     "metadata": {},
     "output_type": "display_data"
    }
   ],
   "source": [
    "from IPython.display import display, HTML\n",
    "display(HTML(\"<style>.container { width:100% !important; }</style>\"))\n",
    "\n",
    "import analysis as da\n",
    "import importlib\n",
    "import os"
   ]
  },
  {
   "cell_type": "markdown",
   "id": "f957adf1",
   "metadata": {},
   "source": [
    "# (a) Collect all data from raw data sources."
   ]
  },
  {
   "cell_type": "code",
   "execution_count": 241,
   "id": "b075608e",
   "metadata": {},
   "outputs": [
    {
     "name": "stdout",
     "output_type": "stream",
     "text": [
      "Hello, you are extracting *.txt files from  /home/santanu/Dropbox/spin_half_bilayer/QMC_Analysis/../files/benchmarking/\n",
      "You are now processing observables outside RAW data files.\n"
     ]
    }
   ],
   "source": [
    "importlib.reload(da)\n",
    "pwd = os.getcwd()\n",
    "custom_dir = \"benchmarking\"\n",
    "sdir = pwd + \"/../files/\" + custom_dir  +\"/\"\n",
    "variables = [\"J_H\", \"QQ\", \"B\", \"lamda\", \"Beta\", \"L\"]\n",
    "file_list, df = da.run_update(sdir, variables, 'data_avg.txt', True)"
   ]
  },
  {
   "cell_type": "code",
   "execution_count": 242,
   "id": "a1b2b3a6",
   "metadata": {},
   "outputs": [
    {
     "name": "stdout",
     "output_type": "stream",
     "text": [
      "    J_H    QQ     B  lamda  Beta  L      enrg_avg      enrg_err  \\\n",
      "0  0.30  0.80  0.20   0.73    20  4 -4.0004962931  0.0000999103   \n",
      "1  0.60  0.50  0.50   0.00    20  4 -2.4158188980  0.0000906277   \n",
      "2  0.90  0.40  0.30   0.50    20  4 -3.1359627200  0.0000763598   \n",
      "3  1.00  1.00  0.20   1.00    20  4 -7.6132383061  0.0001746064   \n",
      "4  1.15  0.88  0.12   0.40    20  4 -4.4572983803  0.0000495834   \n",
      "\n",
      "       enrg2_avg     enrg2_err  ...    R_N_L2_avg    R_N_L2_err    O_V_L2_avg  \\\n",
      "0  16.0164720690  0.0008015875  ...  0.3630988253  0.0004060551  0.0448943683   \n",
      "1   5.8437239184  0.0004390932  ...  0.4090557858  0.0003598324  0.0568416673   \n",
      "2   9.8440575000  0.0004802105  ...  0.4386456276  0.0003088686  0.0519811138   \n",
      "3  57.9851863265  0.0026543880  ...  0.3777258670  0.0003843647  0.0408735996   \n",
      "4  19.8814416667  0.0004423361  ...  0.4102007365  0.0001690550  0.0531567182   \n",
      "\n",
      "     O_V_L2_err    R_V_L2_avg    R_V_L2_err    O_B_L2_avg    O_B_L2_err  \\\n",
      "0  0.0000886891  0.3775458367  0.0007785095  0.1114680241  0.0003423356   \n",
      "1  0.0000378921  0.4846601097  0.0003693180           NaN           NaN   \n",
      "2  0.0000283437  0.4115572220  0.0002590970  0.1066371040  0.0002636264   \n",
      "3  0.0000412040  0.3053468622  0.0004764110  0.1234002082  0.0003659544   \n",
      "4  0.0000129244  0.4461640879  0.0001218215  0.0930200367  0.0004700146   \n",
      "\n",
      "     R_B_L2_avg    R_B_L2_err  \n",
      "0  0.4063484964  0.0013622832  \n",
      "1           NaN           NaN  \n",
      "2  0.3989906168  0.0014018276  \n",
      "3  0.4055077790  0.0016379713  \n",
      "4  0.4164200262  0.0028001529  \n",
      "\n",
      "[5 rows x 100 columns]\n"
     ]
    }
   ],
   "source": [
    "print(df)"
   ]
  },
  {
   "cell_type": "markdown",
   "id": "5f27f687",
   "metadata": {},
   "source": [
    "# (b) Print data"
   ]
  },
  {
   "cell_type": "code",
   "execution_count": 243,
   "id": "615340a9",
   "metadata": {},
   "outputs": [
    {
     "name": "stdout",
     "output_type": "stream",
     "text": [
      "J_H                     1.1500000000\n",
      "QQ                      0.8800000000\n",
      "B                       0.1200000000\n",
      "lamda                   0.4000000000\n",
      "Beta                   20.0000000000\n",
      "L                       4.0000000000\n",
      "enrg_avg               -4.4572983803\n",
      "enrg_err                0.0000495834\n",
      "enrg2_avg              19.8814416667\n",
      "enrg2_err               0.0004423361\n",
      "enrg4_avg             396.3801764957\n",
      "enrg4_err               0.0176355497\n",
      "SMag_square_L1_avg      0.0183052070\n",
      "SMag_square_L1_err      0.0000036478\n",
      "SMag_square_L2_avg      0.0183092642\n",
      "SMag_square_L2_err      0.0000037475\n",
      "SMag_four_L1_avg        0.0007756338\n",
      "SMag_four_L1_err        0.0000002381\n",
      "SMag_four_L2_avg        0.0007759352\n",
      "SMag_four_L2_err        0.0000002502\n",
      "stiffx_avg              0.0083348587\n",
      "stiffx_err              0.0000110724\n",
      "stiffy_avg             11.1014352564\n",
      "stiffy_err              0.0018647968\n",
      "N_mx1_0_avg             0.0388653369\n",
      "N_mx1_0_err             0.0000102132\n",
      "N_mx2_0_avg             0.0732131465\n",
      "N_mx2_0_err             0.0000189198\n",
      "N_my1_0_avg             0.0475642659\n",
      "N_my1_0_err             0.0000174401\n",
      "N_my2_0_avg             0.0732131465\n",
      "N_my2_0_err             0.0000189198\n",
      "V_mx1_0_avg             0.0294395891\n",
      "V_mx1_0_err             0.0000088246\n",
      "V_mx2_0_avg             0.0531432779\n",
      "V_mx2_0_err             0.0000132715\n",
      "V_my1_0_avg            -0.0000039825\n",
      "V_my1_0_err             0.0000232956\n",
      "V_my2_0_avg            -0.0000086750\n",
      "V_my2_0_err             0.0000239616\n",
      "B_mx1_0_avg             0.0714447430\n",
      "B_mx1_0_err             0.0001365759\n",
      "B_mx2_0_avg             0.1306295363\n",
      "B_mx2_0_err             0.0001920583\n",
      "B_my1_0_avg             0.0005098978\n",
      "B_my1_0_err             0.0006498379\n",
      "B_my2_0_avg             0.0010348183\n",
      "B_my2_0_err             0.0006485477\n",
      "N_mx1_1_avg             0.0388816082\n",
      "N_mx1_1_err             0.0000113524\n",
      "N_mx2_1_avg             0.0732484192\n",
      "N_mx2_1_err             0.0000201553\n",
      "N_my1_1_avg             0.0475221191\n",
      "N_my1_1_err             0.0000174105\n",
      "N_my2_1_avg             0.0732484192\n",
      "N_my2_1_err             0.0000201553\n",
      "V_mx1_1_avg             0.0294400995\n",
      "V_mx1_1_err             0.0000081831\n",
      "V_mx2_1_avg             0.0531567182\n",
      "V_mx2_1_err             0.0000129244\n",
      "V_my1_1_avg             0.0000070874\n",
      "V_my1_1_err             0.0000251849\n",
      "V_my2_1_avg            -0.0000195075\n",
      "V_my2_1_err             0.0000263375\n",
      "B_mx1_1_avg             0.0542846290\n",
      "B_mx1_1_err             0.0003196906\n",
      "B_mx2_1_avg             0.0930200367\n",
      "B_mx2_1_err             0.0004700146\n",
      "B_my1_1_avg             0.0015995196\n",
      "B_my1_1_err             0.0009882997\n",
      "B_my2_1_avg             0.0005119693\n",
      "B_my2_1_err             0.0009215254\n",
      "SMag_binder_L1_avg      0.5710268105\n",
      "SMag_binder_L1_err      0.0002209650\n",
      "SMag_binder_L2_avg      0.5711323646\n",
      "SMag_binder_L2_err      0.0002077028\n",
      "O_N_L1_avg              0.0732131465\n",
      "O_N_L1_err              0.0000189198\n",
      "R_N_L1_avg              0.4097398699\n",
      "R_N_L1_err              0.0001671339\n",
      "O_V_L1_avg              0.0531432779\n",
      "O_V_L1_err              0.0000132715\n",
      "R_V_L1_avg              0.4460336229\n",
      "R_V_L1_err              0.0001158595\n",
      "O_B_L1_avg              0.1306295363\n",
      "O_B_L1_err              0.0001920583\n",
      "R_B_L1_avg              0.4530735918\n",
      "R_B_L1_err              0.0008143213\n",
      "O_N_L2_avg              0.0732484192\n",
      "O_N_L2_err              0.0000201553\n",
      "R_N_L2_avg              0.4102007365\n",
      "R_N_L2_err              0.0001690550\n",
      "O_V_L2_avg              0.0531567182\n",
      "O_V_L2_err              0.0000129244\n",
      "R_V_L2_avg              0.4461640879\n",
      "R_V_L2_err              0.0001218215\n",
      "O_B_L2_avg              0.0930200367\n",
      "O_B_L2_err              0.0004700146\n",
      "R_B_L2_avg              0.4164200262\n",
      "R_B_L2_err              0.0028001529\n",
      "Name: 4, dtype: float64\n"
     ]
    }
   ],
   "source": [
    "#df = df[df['Beta'] == 30]\n",
    "import pandas as pd\n",
    "pd.set_option('display.precision', 10)\n",
    "pd.set_option('display.max_rows', None)\n",
    "print(df.iloc[4])"
   ]
  },
  {
   "cell_type": "markdown",
   "id": "2e9ec815",
   "metadata": {},
   "source": [
    "# (c) Save data containing all parameters. MASTER DATA"
   ]
  },
  {
   "cell_type": "code",
   "execution_count": 10,
   "id": "1779fa8a",
   "metadata": {},
   "outputs": [
    {
     "name": "stdout",
     "output_type": "stream",
     "text": [
      "/home/santanu/Dropbox/Square_Kitaev2D_analysis/SSEanalysis_src/../MasterData/\n",
      "mData_L_Beta_Jz0.0.dat\n"
     ]
    }
   ],
   "source": [
    "importlib.reload(da)\n",
    "save_dir = pwd + \"/../MasterData/\" \n",
    "print(save_dir)\n",
    "output_file = \"mData_Beta_20.dat\"\n",
    "print(output_file)\n",
    "da.savefile(df, save_dir, output_file)"
   ]
  },
  {
   "cell_type": "markdown",
   "id": "fdd3d630",
   "metadata": {},
   "source": [
    "## Example: Correlations combining in a symmetric or antisymmetric way"
   ]
  },
  {
   "cell_type": "code",
   "execution_count": 166,
   "id": "93361e42",
   "metadata": {},
   "outputs": [],
   "source": [
    "\n",
    "\n",
    "# pos = 0\n",
    "# print(\"Lx: \", df['L'].iloc[pos])\n",
    "# print(\"beta: \", df['Beta'].iloc[pos])\n",
    "# print(\"JH: \", df['J_H'].iloc[pos])\n",
    "# print(\"J_QQ: \", df['QQ'].iloc[pos])\n",
    "# print(\"J_B: \",df['B'].iloc[pos])\n",
    "# print(\"lambda: \",df['lamda'].iloc[pos])\n",
    "\n",
    "# print(\"enrg \", df['enrg_avg'].iloc[pos], df['enrg_err'].iloc[pos])\n",
    "# print(\"enrg2 \", df['enrg2_avg'].iloc[pos], df['enrg2_err'].iloc[pos])\n",
    "# print(\"enrg4 \", df['enrg4_avg'].iloc[pos], df['enrg4_err'].iloc[pos])\n",
    "\n",
    "# print(\"SMag_square_L1: \",df['SMag_square_L1_avg'].iloc[pos], df['SMag_square_L1_err'].iloc[pos])\n",
    "# print(\"SMag_square_L2: \",df['SMag_square_L2_avg'].iloc[pos], df['SMag_square_L2_err'].iloc[pos])\n",
    "\n",
    "# print(\"SMag_four_L1: \",df['SMag_four_L1_avg'].iloc[pos], df['SMag_four_L1_err'].iloc[pos])\n",
    "# print(\"SMag_four_L2: \",df['SMag_four_L2_avg'].iloc[pos], df['SMag_four_L2_err'].iloc[pos])\n",
    "\n",
    "# print(\"O_N_L1 = \",df['O_N_0_avg'].iloc[pos], df['O_N_0_err'].iloc[pos])\n",
    "# print(\"O_N_L2 = \", df['O_N_0_avg'].iloc[pos], df['O_N_0_err'].iloc[pos])\n",
    "# print(\"R_N_L1 = \",df['R_N_1_avg'].iloc[pos], df['R_N_1_err'].iloc[pos])\n",
    "# print(\"R_N_L2 = \", df['R_N_1_avg'].iloc[pos], df['R_N_1_err'].iloc[pos])\n",
    "\n",
    "# print(\"O_V_L1 = \",df['O_V_0_0_avg'].iloc[pos], df['O_V_0_0_err'].iloc[pos])\n",
    "# print(\"O_V_L2 = \", df['O_V_0_0_avg'].iloc[pos], df['O_V_0_0_err'].iloc[pos])\n",
    "# print(\"R_V_L1 = \",df['R_V_3_3_avg'].iloc[pos], df['R_V_3_3_err'].iloc[pos])\n",
    "# print(\"R_V_L2 = \", df['R_V_3_3_avg'].iloc[pos], df['R_V_3_3_err'].iloc[pos])\n",
    "\n",
    "# print(\"O_B_L1 = \",df['O_B_0_0_avg'].iloc[pos], df['O_V_0_0_err'].iloc[pos])\n",
    "# print(\"O_B_L2 = \", df['O_B_0_0_avg'].iloc[pos], df['O_V_0_0_err'].iloc[pos])\n",
    "# print(\"R_B_L2 = \",df['R_B_1_1_avg'].iloc[pos], df['R_B_1_1_err'].iloc[pos])\n",
    "# print(\"R_B_L2 = \", df['R_B_1_1_avg'].iloc[pos], df['R_B_1_1_err'].iloc[pos])"
   ]
  },
  {
   "cell_type": "code",
   "execution_count": 196,
   "id": "9cbb04ec",
   "metadata": {},
   "outputs": [
    {
     "data": {
      "text/plain": [
       "0.0731492592"
      ]
     },
     "execution_count": 196,
     "metadata": {},
     "output_type": "execute_result"
    }
   ],
   "source": [
    "0.0091436574*8"
   ]
  },
  {
   "cell_type": "code",
   "execution_count": 193,
   "id": "7cf481a2",
   "metadata": {},
   "outputs": [
    {
     "data": {
      "text/plain": [
       "0.063553112"
      ]
     },
     "execution_count": 193,
     "metadata": {},
     "output_type": "execute_result"
    }
   ],
   "source": [
    "0.007944139*8"
   ]
  },
  {
   "cell_type": "code",
   "execution_count": 223,
   "id": "2ddec448",
   "metadata": {},
   "outputs": [
    {
     "name": "stdout",
     "output_type": "stream",
     "text": [
      "[ 6  7  4  3  5  8  6  3  8  4  7  3  4  3  5  6  8  5  8  7  2  2  6  6\n",
      "  4  3  6  7  4  5  1  5  5  6  1  2  1 11 12  6 11  7  7  6  9  7  5  8\n",
      "  6  6  7  6  4  1  2  6  4  3  6  3  8  5  9  3  5  5  4  4  6  8  5  2\n",
      "  6  5  7  4  5  6 11  9  4  2  4  8  5  5  5  3 10  4  5 10  4  3 11  3\n",
      "  3  2  3  7]\n"
     ]
    }
   ],
   "source": [
    "import numpy as np\n",
    "\n",
    "# Set the mean value (gc)\n",
    "gc = 5.0\n",
    "\n",
    "# Set the number of values (N)\n",
    "N = 100\n",
    "\n",
    "# Generate an array with N values Poisson-distributed around gc\n",
    "poisson_array = np.random.poisson(gc, N)\n",
    "\n",
    "# Print the generated array\n",
    "print(poisson_array)"
   ]
  },
  {
   "cell_type": "code",
   "execution_count": null,
   "id": "9b8866f3",
   "metadata": {},
   "outputs": [],
   "source": []
  }
 ],
 "metadata": {
  "kernelspec": {
   "display_name": "Python 3 (ipykernel)",
   "language": "python",
   "name": "python3"
  },
  "language_info": {
   "codemirror_mode": {
    "name": "ipython",
    "version": 3
   },
   "file_extension": ".py",
   "mimetype": "text/x-python",
   "name": "python",
   "nbconvert_exporter": "python",
   "pygments_lexer": "ipython3",
   "version": "3.10.12"
  }
 },
 "nbformat": 4,
 "nbformat_minor": 5
}
